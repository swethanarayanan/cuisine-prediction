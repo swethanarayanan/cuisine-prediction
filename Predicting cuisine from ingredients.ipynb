{
 "cells": [
  {
   "cell_type": "markdown",
   "metadata": {},
   "source": [
    "## Our goal is to predict the cuisine of a recipe, given its ingredients."
   ]
  },
  {
   "cell_type": "code",
   "execution_count": 112,
   "metadata": {},
   "outputs": [
    {
     "data": {
      "text/html": [
       "<style>.container { width:98% !important; }</style>"
      ],
      "text/plain": [
       "<IPython.core.display.HTML object>"
      ]
     },
     "metadata": {},
     "output_type": "display_data"
    }
   ],
   "source": [
    "# Widen width of notebook\n",
    "from IPython.core.display import display, HTML\n",
    "display(HTML(\"<style>.container { width:98% !important; }</style>\"))"
   ]
  },
  {
   "cell_type": "code",
   "execution_count": 113,
   "metadata": {},
   "outputs": [],
   "source": [
    "# allow plots to appear in the notebook\n",
    "%matplotlib inline"
   ]
  },
  {
   "cell_type": "code",
   "execution_count": 145,
   "metadata": {},
   "outputs": [],
   "source": [
    "import pandas as pd\n",
    "pd.set_option('max_colwidth', 100)\n",
    "import numpy as np\n",
    "import matplotlib.pyplot as plt\n",
    "import scipy as sp\n",
    "import seaborn as sns"
   ]
  },
  {
   "cell_type": "code",
   "execution_count": 139,
   "metadata": {},
   "outputs": [],
   "source": [
    "from sklearn.model_selection import train_test_split\n",
    "from sklearn.model_selection import cross_val_score\n",
    "from sklearn.model_selection import GridSearchCV\n",
    "from sklearn.model_selection import RandomizedSearchCV\n",
    "from sklearn.feature_extraction.text import CountVectorizer\n",
    "from sklearn.feature_extraction.text import TfidfVectorizer\n",
    "from sklearn.naive_bayes import MultinomialNB\n",
    "from sklearn.neighbors import KNeighborsClassifier\n",
    "from sklearn.dummy import DummyClassifier\n",
    "from sklearn import metrics\n",
    "from sklearn.pipeline import make_union\n",
    "from sklearn.pipeline import make_pipeline\n",
    "from sklearn.preprocessing import FunctionTransformer"
   ]
  },
  {
   "cell_type": "code",
   "execution_count": 116,
   "metadata": {},
   "outputs": [],
   "source": [
    "train = pd.read_json('cuisine_train.json')\n",
    "new = pd.read_json('cuisine_test.json')"
   ]
  },
  {
   "cell_type": "markdown",
   "metadata": {},
   "source": [
    "## Exploratory Analysis"
   ]
  },
  {
   "cell_type": "code",
   "execution_count": 38,
   "metadata": {},
   "outputs": [
    {
     "data": {
      "text/plain": [
       "cuisine        object\n",
       "id              int64\n",
       "ingredients    object\n",
       "dtype: object"
      ]
     },
     "execution_count": 38,
     "metadata": {},
     "output_type": "execute_result"
    }
   ],
   "source": [
    "train.dtypes"
   ]
  },
  {
   "cell_type": "code",
   "execution_count": 39,
   "metadata": {},
   "outputs": [
    {
     "data": {
      "text/plain": [
       "['romaine lettuce',\n",
       " 'black olives',\n",
       " 'grape tomatoes',\n",
       " 'garlic',\n",
       " 'pepper',\n",
       " 'purple onion',\n",
       " 'seasoning',\n",
       " 'garbanzo beans',\n",
       " 'feta cheese crumbles']"
      ]
     },
     "execution_count": 39,
     "metadata": {},
     "output_type": "execute_result"
    }
   ],
   "source": [
    "train.loc[0, 'ingredients']"
   ]
  },
  {
   "cell_type": "code",
   "execution_count": 40,
   "metadata": {},
   "outputs": [
    {
     "data": {
      "text/plain": [
       "italian         7838\n",
       "mexican         6438\n",
       "southern_us     4320\n",
       "indian          3003\n",
       "chinese         2673\n",
       "french          2646\n",
       "cajun_creole    1546\n",
       "thai            1539\n",
       "japanese        1423\n",
       "greek           1175\n",
       "spanish          989\n",
       "korean           830\n",
       "vietnamese       825\n",
       "moroccan         821\n",
       "british          804\n",
       "filipino         755\n",
       "irish            667\n",
       "jamaican         526\n",
       "russian          489\n",
       "brazilian        467\n",
       "Name: cuisine, dtype: int64"
      ]
     },
     "execution_count": 40,
     "metadata": {},
     "output_type": "execute_result"
    }
   ],
   "source": [
    "# examine the class distribution\n",
    "train.cuisine.value_counts()"
   ]
  },
  {
   "cell_type": "markdown",
   "metadata": {},
   "source": [
    "## Data cleaning"
   ]
  },
  {
   "cell_type": "code",
   "execution_count": 128,
   "metadata": {},
   "outputs": [
    {
     "data": {
      "text/plain": [
       "cuisine              0\n",
       "id                   0\n",
       "ingredients          0\n",
       "num_ingredients      0\n",
       "ingredient_length    0\n",
       "ingredients_str      0\n",
       "dtype: int64"
      ]
     },
     "execution_count": 128,
     "metadata": {},
     "output_type": "execute_result"
    }
   ],
   "source": [
    "# count the number of null values in each column\n",
    "train.isnull().sum()"
   ]
  },
  {
   "cell_type": "markdown",
   "metadata": {},
   "source": [
    "## Feature Engineering"
   ]
  },
  {
   "cell_type": "code",
   "execution_count": 129,
   "metadata": {},
   "outputs": [],
   "source": [
    "def make_features(df):\n",
    "    df['num_ingredients'] = df.ingredients.apply(len)\n",
    "    #mean length of ingredient names \n",
    "    df['ingredient_length'] = df.ingredients.apply(lambda x: np.mean([len(item) for item in x]))\n",
    "    #Does the ingredient contain oil, coconut\n",
    "    #df['contains_oil'] = np.where(any(\"vegetable oil\" in x for x in df.ingredients), 'yes', 'no')\n",
    "    #Whats the taste type - spicy, bland, sour, sweet\n",
    "    #Vegetarian ingredients\n",
    "    # string representation of the ingredient list\n",
    "    df['ingredients_str'] = df.ingredients.astype(str)\n",
    "    return(df)"
   ]
  },
  {
   "cell_type": "code",
   "execution_count": 130,
   "metadata": {},
   "outputs": [],
   "source": [
    "train = make_features(train)\n",
    "new = make_features(new)"
   ]
  },
  {
   "cell_type": "code",
   "execution_count": 131,
   "metadata": {},
   "outputs": [
    {
     "data": {
      "text/html": [
       "<div>\n",
       "<style scoped>\n",
       "    .dataframe tbody tr th:only-of-type {\n",
       "        vertical-align: middle;\n",
       "    }\n",
       "\n",
       "    .dataframe tbody tr th {\n",
       "        vertical-align: top;\n",
       "    }\n",
       "\n",
       "    .dataframe thead th {\n",
       "        text-align: right;\n",
       "    }\n",
       "</style>\n",
       "<table border=\"1\" class=\"dataframe\">\n",
       "  <thead>\n",
       "    <tr style=\"text-align: right;\">\n",
       "      <th></th>\n",
       "      <th>cuisine</th>\n",
       "      <th>id</th>\n",
       "      <th>ingredients</th>\n",
       "      <th>num_ingredients</th>\n",
       "      <th>ingredient_length</th>\n",
       "      <th>ingredients_str</th>\n",
       "    </tr>\n",
       "  </thead>\n",
       "  <tbody>\n",
       "    <tr>\n",
       "      <th>0</th>\n",
       "      <td>greek</td>\n",
       "      <td>10259</td>\n",
       "      <td>[romaine lettuce, black olives, grape tomatoes, garlic, pepper, purple onion, seasoning, garbanz...</td>\n",
       "      <td>9</td>\n",
       "      <td>12.000000</td>\n",
       "      <td>['romaine lettuce', 'black olives', 'grape tomatoes', 'garlic', 'pepper', 'purple onion', 'seaso...</td>\n",
       "    </tr>\n",
       "    <tr>\n",
       "      <th>1</th>\n",
       "      <td>southern_us</td>\n",
       "      <td>25693</td>\n",
       "      <td>[plain flour, ground pepper, salt, tomatoes, ground black pepper, thyme, eggs, green tomatoes, y...</td>\n",
       "      <td>11</td>\n",
       "      <td>10.090909</td>\n",
       "      <td>['plain flour', 'ground pepper', 'salt', 'tomatoes', 'ground black pepper', 'thyme', 'eggs', 'gr...</td>\n",
       "    </tr>\n",
       "    <tr>\n",
       "      <th>2</th>\n",
       "      <td>filipino</td>\n",
       "      <td>20130</td>\n",
       "      <td>[eggs, pepper, salt, mayonaise, cooking oil, green chilies, grilled chicken breasts, garlic powd...</td>\n",
       "      <td>12</td>\n",
       "      <td>10.333333</td>\n",
       "      <td>['eggs', 'pepper', 'salt', 'mayonaise', 'cooking oil', 'green chilies', 'grilled chicken breasts...</td>\n",
       "    </tr>\n",
       "    <tr>\n",
       "      <th>3</th>\n",
       "      <td>indian</td>\n",
       "      <td>22213</td>\n",
       "      <td>[water, vegetable oil, wheat, salt]</td>\n",
       "      <td>4</td>\n",
       "      <td>6.750000</td>\n",
       "      <td>['water', 'vegetable oil', 'wheat', 'salt']</td>\n",
       "    </tr>\n",
       "    <tr>\n",
       "      <th>4</th>\n",
       "      <td>indian</td>\n",
       "      <td>13162</td>\n",
       "      <td>[black pepper, shallots, cornflour, cayenne pepper, onions, garlic paste, milk, butter, salt, le...</td>\n",
       "      <td>20</td>\n",
       "      <td>10.100000</td>\n",
       "      <td>['black pepper', 'shallots', 'cornflour', 'cayenne pepper', 'onions', 'garlic paste', 'milk', 'b...</td>\n",
       "    </tr>\n",
       "  </tbody>\n",
       "</table>\n",
       "</div>"
      ],
      "text/plain": [
       "       cuisine     id  \\\n",
       "0        greek  10259   \n",
       "1  southern_us  25693   \n",
       "2     filipino  20130   \n",
       "3       indian  22213   \n",
       "4       indian  13162   \n",
       "\n",
       "                                                                                           ingredients  \\\n",
       "0  [romaine lettuce, black olives, grape tomatoes, garlic, pepper, purple onion, seasoning, garbanz...   \n",
       "1  [plain flour, ground pepper, salt, tomatoes, ground black pepper, thyme, eggs, green tomatoes, y...   \n",
       "2  [eggs, pepper, salt, mayonaise, cooking oil, green chilies, grilled chicken breasts, garlic powd...   \n",
       "3                                                                  [water, vegetable oil, wheat, salt]   \n",
       "4  [black pepper, shallots, cornflour, cayenne pepper, onions, garlic paste, milk, butter, salt, le...   \n",
       "\n",
       "   num_ingredients  ingredient_length  \\\n",
       "0                9          12.000000   \n",
       "1               11          10.090909   \n",
       "2               12          10.333333   \n",
       "3                4           6.750000   \n",
       "4               20          10.100000   \n",
       "\n",
       "                                                                                       ingredients_str  \n",
       "0  ['romaine lettuce', 'black olives', 'grape tomatoes', 'garlic', 'pepper', 'purple onion', 'seaso...  \n",
       "1  ['plain flour', 'ground pepper', 'salt', 'tomatoes', 'ground black pepper', 'thyme', 'eggs', 'gr...  \n",
       "2  ['eggs', 'pepper', 'salt', 'mayonaise', 'cooking oil', 'green chilies', 'grilled chicken breasts...  \n",
       "3                                                          ['water', 'vegetable oil', 'wheat', 'salt']  \n",
       "4  ['black pepper', 'shallots', 'cornflour', 'cayenne pepper', 'onions', 'garlic paste', 'milk', 'b...  "
      ]
     },
     "execution_count": 131,
     "metadata": {},
     "output_type": "execute_result"
    }
   ],
   "source": [
    "train.head()"
   ]
  },
  {
   "cell_type": "code",
   "execution_count": 132,
   "metadata": {},
   "outputs": [
    {
     "data": {
      "text/plain": [
       "(39774, 6)"
      ]
     },
     "execution_count": 132,
     "metadata": {},
     "output_type": "execute_result"
    }
   ],
   "source": [
    "train.shape"
   ]
  },
  {
   "cell_type": "code",
   "execution_count": 133,
   "metadata": {},
   "outputs": [
    {
     "data": {
      "text/html": [
       "<div>\n",
       "<style scoped>\n",
       "    .dataframe tbody tr th:only-of-type {\n",
       "        vertical-align: middle;\n",
       "    }\n",
       "\n",
       "    .dataframe tbody tr th {\n",
       "        vertical-align: top;\n",
       "    }\n",
       "\n",
       "    .dataframe thead th {\n",
       "        text-align: right;\n",
       "    }\n",
       "</style>\n",
       "<table border=\"1\" class=\"dataframe\">\n",
       "  <thead>\n",
       "    <tr style=\"text-align: right;\">\n",
       "      <th></th>\n",
       "      <th>count</th>\n",
       "      <th>mean</th>\n",
       "      <th>std</th>\n",
       "      <th>min</th>\n",
       "      <th>25%</th>\n",
       "      <th>50%</th>\n",
       "      <th>75%</th>\n",
       "      <th>max</th>\n",
       "    </tr>\n",
       "    <tr>\n",
       "      <th>cuisine</th>\n",
       "      <th></th>\n",
       "      <th></th>\n",
       "      <th></th>\n",
       "      <th></th>\n",
       "      <th></th>\n",
       "      <th></th>\n",
       "      <th></th>\n",
       "      <th></th>\n",
       "    </tr>\n",
       "  </thead>\n",
       "  <tbody>\n",
       "    <tr>\n",
       "      <th>brazilian</th>\n",
       "      <td>467.0</td>\n",
       "      <td>9.520343</td>\n",
       "      <td>5.555139</td>\n",
       "      <td>2.0</td>\n",
       "      <td>5.0</td>\n",
       "      <td>9.0</td>\n",
       "      <td>13.0</td>\n",
       "      <td>59.0</td>\n",
       "    </tr>\n",
       "    <tr>\n",
       "      <th>british</th>\n",
       "      <td>804.0</td>\n",
       "      <td>9.708955</td>\n",
       "      <td>4.165011</td>\n",
       "      <td>2.0</td>\n",
       "      <td>7.0</td>\n",
       "      <td>9.0</td>\n",
       "      <td>12.0</td>\n",
       "      <td>30.0</td>\n",
       "    </tr>\n",
       "    <tr>\n",
       "      <th>cajun_creole</th>\n",
       "      <td>1546.0</td>\n",
       "      <td>12.617076</td>\n",
       "      <td>4.611601</td>\n",
       "      <td>2.0</td>\n",
       "      <td>9.0</td>\n",
       "      <td>12.0</td>\n",
       "      <td>16.0</td>\n",
       "      <td>31.0</td>\n",
       "    </tr>\n",
       "    <tr>\n",
       "      <th>chinese</th>\n",
       "      <td>2673.0</td>\n",
       "      <td>11.982791</td>\n",
       "      <td>4.042125</td>\n",
       "      <td>2.0</td>\n",
       "      <td>9.0</td>\n",
       "      <td>12.0</td>\n",
       "      <td>14.0</td>\n",
       "      <td>38.0</td>\n",
       "    </tr>\n",
       "    <tr>\n",
       "      <th>filipino</th>\n",
       "      <td>755.0</td>\n",
       "      <td>10.000000</td>\n",
       "      <td>3.855135</td>\n",
       "      <td>2.0</td>\n",
       "      <td>7.0</td>\n",
       "      <td>10.0</td>\n",
       "      <td>12.0</td>\n",
       "      <td>38.0</td>\n",
       "    </tr>\n",
       "    <tr>\n",
       "      <th>french</th>\n",
       "      <td>2646.0</td>\n",
       "      <td>9.817838</td>\n",
       "      <td>4.144744</td>\n",
       "      <td>1.0</td>\n",
       "      <td>7.0</td>\n",
       "      <td>9.0</td>\n",
       "      <td>12.0</td>\n",
       "      <td>31.0</td>\n",
       "    </tr>\n",
       "    <tr>\n",
       "      <th>greek</th>\n",
       "      <td>1175.0</td>\n",
       "      <td>10.182128</td>\n",
       "      <td>3.729461</td>\n",
       "      <td>1.0</td>\n",
       "      <td>7.0</td>\n",
       "      <td>10.0</td>\n",
       "      <td>12.0</td>\n",
       "      <td>27.0</td>\n",
       "    </tr>\n",
       "    <tr>\n",
       "      <th>indian</th>\n",
       "      <td>3003.0</td>\n",
       "      <td>12.705961</td>\n",
       "      <td>5.016806</td>\n",
       "      <td>1.0</td>\n",
       "      <td>9.0</td>\n",
       "      <td>12.0</td>\n",
       "      <td>16.0</td>\n",
       "      <td>49.0</td>\n",
       "    </tr>\n",
       "    <tr>\n",
       "      <th>irish</th>\n",
       "      <td>667.0</td>\n",
       "      <td>9.299850</td>\n",
       "      <td>3.700505</td>\n",
       "      <td>2.0</td>\n",
       "      <td>7.0</td>\n",
       "      <td>9.0</td>\n",
       "      <td>12.0</td>\n",
       "      <td>27.0</td>\n",
       "    </tr>\n",
       "    <tr>\n",
       "      <th>italian</th>\n",
       "      <td>7838.0</td>\n",
       "      <td>9.909033</td>\n",
       "      <td>3.806708</td>\n",
       "      <td>1.0</td>\n",
       "      <td>7.0</td>\n",
       "      <td>10.0</td>\n",
       "      <td>12.0</td>\n",
       "      <td>65.0</td>\n",
       "    </tr>\n",
       "    <tr>\n",
       "      <th>jamaican</th>\n",
       "      <td>526.0</td>\n",
       "      <td>12.214829</td>\n",
       "      <td>4.763897</td>\n",
       "      <td>2.0</td>\n",
       "      <td>9.0</td>\n",
       "      <td>12.0</td>\n",
       "      <td>15.0</td>\n",
       "      <td>35.0</td>\n",
       "    </tr>\n",
       "    <tr>\n",
       "      <th>japanese</th>\n",
       "      <td>1423.0</td>\n",
       "      <td>9.735067</td>\n",
       "      <td>4.245882</td>\n",
       "      <td>1.0</td>\n",
       "      <td>7.0</td>\n",
       "      <td>9.0</td>\n",
       "      <td>12.0</td>\n",
       "      <td>34.0</td>\n",
       "    </tr>\n",
       "    <tr>\n",
       "      <th>korean</th>\n",
       "      <td>830.0</td>\n",
       "      <td>11.284337</td>\n",
       "      <td>3.878880</td>\n",
       "      <td>2.0</td>\n",
       "      <td>9.0</td>\n",
       "      <td>11.0</td>\n",
       "      <td>14.0</td>\n",
       "      <td>29.0</td>\n",
       "    </tr>\n",
       "    <tr>\n",
       "      <th>mexican</th>\n",
       "      <td>6438.0</td>\n",
       "      <td>10.877446</td>\n",
       "      <td>4.660183</td>\n",
       "      <td>1.0</td>\n",
       "      <td>7.0</td>\n",
       "      <td>10.0</td>\n",
       "      <td>14.0</td>\n",
       "      <td>52.0</td>\n",
       "    </tr>\n",
       "    <tr>\n",
       "      <th>moroccan</th>\n",
       "      <td>821.0</td>\n",
       "      <td>12.909866</td>\n",
       "      <td>4.799813</td>\n",
       "      <td>2.0</td>\n",
       "      <td>9.0</td>\n",
       "      <td>13.0</td>\n",
       "      <td>16.0</td>\n",
       "      <td>31.0</td>\n",
       "    </tr>\n",
       "    <tr>\n",
       "      <th>russian</th>\n",
       "      <td>489.0</td>\n",
       "      <td>10.224949</td>\n",
       "      <td>4.051223</td>\n",
       "      <td>2.0</td>\n",
       "      <td>7.0</td>\n",
       "      <td>10.0</td>\n",
       "      <td>13.0</td>\n",
       "      <td>25.0</td>\n",
       "    </tr>\n",
       "    <tr>\n",
       "      <th>southern_us</th>\n",
       "      <td>4320.0</td>\n",
       "      <td>9.634954</td>\n",
       "      <td>3.869404</td>\n",
       "      <td>1.0</td>\n",
       "      <td>7.0</td>\n",
       "      <td>9.0</td>\n",
       "      <td>12.0</td>\n",
       "      <td>40.0</td>\n",
       "    </tr>\n",
       "    <tr>\n",
       "      <th>spanish</th>\n",
       "      <td>989.0</td>\n",
       "      <td>10.423660</td>\n",
       "      <td>4.160919</td>\n",
       "      <td>1.0</td>\n",
       "      <td>7.0</td>\n",
       "      <td>10.0</td>\n",
       "      <td>13.0</td>\n",
       "      <td>35.0</td>\n",
       "    </tr>\n",
       "    <tr>\n",
       "      <th>thai</th>\n",
       "      <td>1539.0</td>\n",
       "      <td>12.545809</td>\n",
       "      <td>4.411794</td>\n",
       "      <td>1.0</td>\n",
       "      <td>9.0</td>\n",
       "      <td>12.0</td>\n",
       "      <td>15.0</td>\n",
       "      <td>40.0</td>\n",
       "    </tr>\n",
       "    <tr>\n",
       "      <th>vietnamese</th>\n",
       "      <td>825.0</td>\n",
       "      <td>12.675152</td>\n",
       "      <td>5.256173</td>\n",
       "      <td>1.0</td>\n",
       "      <td>9.0</td>\n",
       "      <td>12.0</td>\n",
       "      <td>16.0</td>\n",
       "      <td>31.0</td>\n",
       "    </tr>\n",
       "  </tbody>\n",
       "</table>\n",
       "</div>"
      ],
      "text/plain": [
       "               count       mean       std  min  25%   50%   75%   max\n",
       "cuisine                                                              \n",
       "brazilian      467.0   9.520343  5.555139  2.0  5.0   9.0  13.0  59.0\n",
       "british        804.0   9.708955  4.165011  2.0  7.0   9.0  12.0  30.0\n",
       "cajun_creole  1546.0  12.617076  4.611601  2.0  9.0  12.0  16.0  31.0\n",
       "chinese       2673.0  11.982791  4.042125  2.0  9.0  12.0  14.0  38.0\n",
       "filipino       755.0  10.000000  3.855135  2.0  7.0  10.0  12.0  38.0\n",
       "french        2646.0   9.817838  4.144744  1.0  7.0   9.0  12.0  31.0\n",
       "greek         1175.0  10.182128  3.729461  1.0  7.0  10.0  12.0  27.0\n",
       "indian        3003.0  12.705961  5.016806  1.0  9.0  12.0  16.0  49.0\n",
       "irish          667.0   9.299850  3.700505  2.0  7.0   9.0  12.0  27.0\n",
       "italian       7838.0   9.909033  3.806708  1.0  7.0  10.0  12.0  65.0\n",
       "jamaican       526.0  12.214829  4.763897  2.0  9.0  12.0  15.0  35.0\n",
       "japanese      1423.0   9.735067  4.245882  1.0  7.0   9.0  12.0  34.0\n",
       "korean         830.0  11.284337  3.878880  2.0  9.0  11.0  14.0  29.0\n",
       "mexican       6438.0  10.877446  4.660183  1.0  7.0  10.0  14.0  52.0\n",
       "moroccan       821.0  12.909866  4.799813  2.0  9.0  13.0  16.0  31.0\n",
       "russian        489.0  10.224949  4.051223  2.0  7.0  10.0  13.0  25.0\n",
       "southern_us   4320.0   9.634954  3.869404  1.0  7.0   9.0  12.0  40.0\n",
       "spanish        989.0  10.423660  4.160919  1.0  7.0  10.0  13.0  35.0\n",
       "thai          1539.0  12.545809  4.411794  1.0  9.0  12.0  15.0  40.0\n",
       "vietnamese     825.0  12.675152  5.256173  1.0  9.0  12.0  16.0  31.0"
      ]
     },
     "execution_count": 133,
     "metadata": {},
     "output_type": "execute_result"
    }
   ],
   "source": [
    "# for each cuisine, calculate the mean/describe number of ingredients\n",
    "train.groupby('cuisine').num_ingredients.describe() "
   ]
  },
  {
   "cell_type": "code",
   "execution_count": 134,
   "metadata": {},
   "outputs": [
    {
     "data": {
      "text/plain": [
       "<matplotlib.axes._subplots.AxesSubplot at 0x1210a34a8>"
      ]
     },
     "execution_count": 134,
     "metadata": {},
     "output_type": "execute_result"
    },
    {
     "data": {
      "image/png": "[encoded data removed]",
      "text/plain": [
       "<Figure size 432x288 with 1 Axes>"
      ]
     },
     "metadata": {
      "needs_background": "light"
     },
     "output_type": "display_data"
    }
   ],
   "source": [
    "# box plot of number ingredients for each cuisine\n",
    "train.boxplot('num_ingredients', by='cuisine', rot=90)"
   ]
  },
  {
   "cell_type": "code",
   "execution_count": 135,
   "metadata": {},
   "outputs": [
    {
     "data": {
      "text/plain": [
       "<matplotlib.axes._subplots.AxesSubplot at 0x1201a5588>"
      ]
     },
     "execution_count": 135,
     "metadata": {},
     "output_type": "execute_result"
    },
    {
     "data": {
      "image/png": "[encoded data removed]",
      "text/plain": [
       "<Figure size 432x288 with 1 Axes>"
      ]
     },
     "metadata": {
      "needs_background": "light"
     },
     "output_type": "display_data"
    }
   ],
   "source": [
    "train.boxplot('ingredient_length', by='cuisine', rot=90)"
   ]
  },
  {
   "cell_type": "markdown",
   "metadata": {},
   "source": [
    "## Extracting features from text using CountVectorizer"
   ]
  },
  {
   "cell_type": "code",
   "execution_count": 136,
   "metadata": {},
   "outputs": [],
   "source": [
    "# define X and y\n",
    "X = train.ingredients_str\n",
    "y = train.cuisine"
   ]
  },
  {
   "cell_type": "code",
   "execution_count": 50,
   "metadata": {},
   "outputs": [
    {
     "data": {
      "text/plain": [
       "CountVectorizer(analyzer='word', binary=False, decode_error='strict',\n",
       "        dtype=<class 'numpy.int64'>, encoding='utf-8', input='content',\n",
       "        lowercase=True, max_df=1.0, max_features=None, min_df=1,\n",
       "        ngram_range=(1, 1), preprocessor=None, stop_words=None,\n",
       "        strip_accents=None, token_pattern='(?u)\\\\b\\\\w\\\\w+\\\\b',\n",
       "        tokenizer=None, vocabulary=None)"
      ]
     },
     "execution_count": 50,
     "metadata": {},
     "output_type": "execute_result"
    }
   ],
   "source": [
    "# import and instantiate CountVectorizer (with default parameters)\n",
    "vect = CountVectorizer()\n",
    "vect"
   ]
  },
  {
   "cell_type": "code",
   "execution_count": 51,
   "metadata": {},
   "outputs": [
    {
     "data": {
      "text/plain": [
       "(39774, 3010)"
      ]
     },
     "execution_count": 51,
     "metadata": {},
     "output_type": "execute_result"
    }
   ],
   "source": [
    "# create a document-term matrix from all of the training data\n",
    "X_dtm = vect.fit_transform(X)\n",
    "X_dtm.shape"
   ]
  },
  {
   "cell_type": "code",
   "execution_count": 52,
   "metadata": {},
   "outputs": [
    {
     "name": "stdout",
     "output_type": "stream",
     "text": [
      "['00', '10', '100', '14', '15', '25', '33', '40', '43', '95', '96', 'abalone', 'abbamele', 'absinthe', 'abura', 'acai', 'accent', 'accompaniment', 'achiote', 'acid', 'acini', 'ackee', 'acorn', 'acting', 'activ', 'active', 'added', 'adobo', 'adzuki', 'agar', 'agave', 'age', 'aged', 'ahi', 'aioli', 'ajinomoto', 'ajwain', 'aka', 'alaskan', 'albacore', 'alcohol', 'ale', 'aleppo', 'alexia', 'alfalfa', 'alfredo', 'all', 'allspice', 'almond', 'almondmilk', 'almonds', 'aloe', 'alphabet', 'alum', 'amaranth', 'amarena', 'amaretti', 'amaretto', 'amba', 'amber', 'amberjack', 'amchur', 'america', 'american', 'aminos', 'ammonium', 'amontillado', 'ampalaya', 'an', 'anaheim', 'anasazi', 'ancho', 'anchovies', 'anchovy', 'and', 'andouille', 'anejo', 'angel', 'anglaise', 'angled', 'angostura', 'angus', 'anise', 'anisette', 'anjou', 'annatto', 'any', 'aonori', 'apple', 'apples', 'applesauce', 'applewood', 'apricot', 'apricots', 'aquavit', 'arak', 'arame', 'arbol', 'arborio', 'arctic']\n"
     ]
    }
   ],
   "source": [
    "# examine the features that were created\n",
    "print(vect.get_feature_names()[0:100])"
   ]
  },
  {
   "cell_type": "code",
   "execution_count": 53,
   "metadata": {},
   "outputs": [
    {
     "data": {
      "text/plain": [
       "(39774, 6250)"
      ]
     },
     "execution_count": 53,
     "metadata": {},
     "output_type": "execute_result"
    }
   ],
   "source": [
    "# replace the regex pattern that is used for tokenization\n",
    "vect = CountVectorizer(token_pattern=r\"'([a-z ]+)'\")\n",
    "X_dtm = vect.fit_transform(X)\n",
    "X_dtm.shape"
   ]
  },
  {
   "cell_type": "code",
   "execution_count": 54,
   "metadata": {},
   "outputs": [
    {
     "name": "stdout",
     "output_type": "stream",
     "text": [
      "['a taste of thai rice noodles', 'abalone', 'abbamele', 'absinthe', 'abura age', 'acai juice', 'accent', 'accent seasoning', 'accompaniment', 'achiote', 'achiote paste', 'achiote powder', 'acini di pepe', 'ackee', 'acorn squash', 'active dry yeast', 'adobo', 'adobo all purpose seasoning', 'adobo sauce', 'adobo seasoning', 'adobo style seasoning', 'adzuki beans', 'agar', 'agar agar flakes', 'agave nectar', 'agave tequila', 'aged balsamic vinegar', 'aged cheddar cheese', 'aged gouda', 'aged manchego cheese', 'ahi', 'ahi tuna steaks', 'aioli', 'ajinomoto', 'ajwain', 'aka miso', 'alaskan king crab legs', 'alaskan king salmon', 'albacore', 'albacore tuna in water', 'alcohol', 'ale', 'aleppo', 'aleppo pepper', 'alexia waffle fries', 'alfalfa sprouts', 'alfredo sauce', 'alfredo sauce mix', 'all beef hot dogs', 'all potato purpos', 'all purpose seasoning', 'all purpose unbleached flour', 'allspice', 'allspice berries', 'almond butter', 'almond extract', 'almond filling', 'almond flour', 'almond liqueur', 'almond meal', 'almond milk', 'almond oil', 'almond paste', 'almond syrup', 'almonds', 'aloe juice', 'alphabet pasta', 'alum', 'amaranth', 'amarena cherries', 'amaretti', 'amaretti cookies', 'amaretto', 'amaretto liqueur', 'amba', 'amber', 'amber rum', 'amberjack fillet', 'amchur', 'america', 'american cheese', 'american cheese food', 'american cheese slices', 'ammonium bicarbonate', 'amontillado sherry', 'ampalaya', 'anaheim chile', 'anasazi beans', 'ancho', 'ancho chile pepper', 'ancho chili ground pepper', 'ancho powder', 'anchovies', 'anchovy filets', 'anchovy fillets', 'anchovy paste', 'and carrot green pea', 'and cook drain pasta ziti', 'and fat free half half', 'andouille chicken sausage']\n"
     ]
    }
   ],
   "source": [
    "# examine the features that were created\n",
    "print(vect.get_feature_names()[0:100])"
   ]
  },
  {
   "cell_type": "markdown",
   "metadata": {},
   "source": [
    "## Model evaluation for text features"
   ]
  },
  {
   "cell_type": "code",
   "execution_count": 147,
   "metadata": {},
   "outputs": [],
   "source": [
    "# import and instantiate Multinomial Naive Bayes (with the default parameters)\n",
    "nb = MultinomialNB()"
   ]
  },
  {
   "cell_type": "code",
   "execution_count": 148,
   "metadata": {},
   "outputs": [
    {
     "data": {
      "text/plain": [
       "0.7301267156198039"
      ]
     },
     "execution_count": 148,
     "metadata": {},
     "output_type": "execute_result"
    }
   ],
   "source": [
    "# slightly improper cross-validation\n",
    "cross_val_score(nb, X_dtm, y, cv=5, scoring='accuracy').mean()"
   ]
  },
  {
   "cell_type": "markdown",
   "metadata": {},
   "source": [
    "- Normally, we split the data into training and testing sets **before** creating the document-term matrix. But since **`cross_val_score`** does the splitting for you, we passed it the feature matrix (**`X_dtm`**) rather than the raw text (**`X`**).\n",
    "- However, that does not appropriately simulate the real world, in which your out-of-sample data will contain **features that were not seen** during model training.\n",
    "\n",
    "**What's the solution?**\n",
    "\n",
    "- We need a way to pass **`X`** (not **`X_dtm`**) to **`cross_val_score`**, and have the feature creation (via **`CountVectorizer`**) occur **within each fold** of cross-validation.\n",
    "- We will do this by using a **`Pipeline` later**."
   ]
  },
  {
   "cell_type": "markdown",
   "metadata": {},
   "source": [
    "## Model evaluation for numerical features"
   ]
  },
  {
   "cell_type": "code",
   "execution_count": 149,
   "metadata": {},
   "outputs": [],
   "source": [
    "feature_cols = ['num_ingredients', 'ingredient_length']\n",
    "X = train[feature_cols]\n",
    "y = train.cuisine"
   ]
  },
  {
   "cell_type": "code",
   "execution_count": 150,
   "metadata": {},
   "outputs": [],
   "source": [
    "X_train, X_test, y_train, y_test = train_test_split(X, y, random_state=1)"
   ]
  },
  {
   "cell_type": "markdown",
   "metadata": {},
   "source": [
    "### Null Model"
   ]
  },
  {
   "cell_type": "code",
   "execution_count": 151,
   "metadata": {},
   "outputs": [
    {
     "data": {
      "text/plain": [
       "0.1992156074014481"
      ]
     },
     "execution_count": 151,
     "metadata": {},
     "output_type": "execute_result"
    }
   ],
   "source": [
    "dumb = DummyClassifier(strategy='most_frequent')\n",
    "dumb.fit(X_train, y_train)\n",
    "y_pred_class = dumb.predict(X_test)\n",
    "metrics.accuracy_score(y_test, y_pred_class)"
   ]
  },
  {
   "cell_type": "markdown",
   "metadata": {},
   "source": [
    "### KNN"
   ]
  },
  {
   "cell_type": "code",
   "execution_count": 152,
   "metadata": {},
   "outputs": [],
   "source": [
    "knn = KNeighborsClassifier(n_neighbors=100)"
   ]
  },
  {
   "cell_type": "code",
   "execution_count": 153,
   "metadata": {},
   "outputs": [],
   "source": [
    "knn.fit(X_train, y_train)\n",
    "y_pred_class = knn.predict(X_test)"
   ]
  },
  {
   "cell_type": "code",
   "execution_count": 154,
   "metadata": {},
   "outputs": [
    {
     "data": {
      "text/plain": [
       "0.21932823813354788"
      ]
     },
     "execution_count": 154,
     "metadata": {},
     "output_type": "execute_result"
    }
   ],
   "source": [
    "# check the classification accuracy of KNN's predictions\n",
    "metrics.accuracy_score(y_test, y_pred_class)"
   ]
  },
  {
   "cell_type": "code",
   "execution_count": 155,
   "metadata": {},
   "outputs": [
    {
     "data": {
      "text/plain": [
       "0.21591924749538957"
      ]
     },
     "execution_count": 155,
     "metadata": {},
     "output_type": "execute_result"
    }
   ],
   "source": [
    "# evaluate with 5-fold cross-validation (using X instead of X_train)\n",
    "cross_val_score(knn, X, y, cv=5, scoring='accuracy').mean()"
   ]
  },
  {
   "cell_type": "code",
   "execution_count": 156,
   "metadata": {},
   "outputs": [
    {
     "data": {
      "text/plain": [
       "KNeighborsClassifier(algorithm='auto', leaf_size=30, metric='minkowski',\n",
       "           metric_params=None, n_jobs=None, n_neighbors=100, p=2,\n",
       "           weights='uniform')"
      ]
     },
     "execution_count": 156,
     "metadata": {},
     "output_type": "execute_result"
    }
   ],
   "source": [
    "#Fit on all of the data\n",
    "knn.fit(X, y)"
   ]
  },
  {
   "cell_type": "code",
   "execution_count": 157,
   "metadata": {},
   "outputs": [
    {
     "data": {
      "text/plain": [
       "array(['mexican', 'southern_us', 'mexican', ..., 'italian', 'mexican',\n",
       "       'mexican'], dtype=object)"
      ]
     },
     "execution_count": 157,
     "metadata": {},
     "output_type": "execute_result"
    }
   ],
   "source": [
    "#Predicting with new data\n",
    "X_new = new[feature_cols]\n",
    "new_pred_class_knn = knn.predict(X_new)\n",
    "new_pred_class_knn"
   ]
  },
  {
   "cell_type": "code",
   "execution_count": 158,
   "metadata": {},
   "outputs": [
    {
     "data": {
      "text/plain": [
       "(9944,)"
      ]
     },
     "execution_count": 158,
     "metadata": {},
     "output_type": "execute_result"
    }
   ],
   "source": [
    "new_pred_class_knn.shape"
   ]
  },
  {
   "cell_type": "code",
   "execution_count": 159,
   "metadata": {},
   "outputs": [
    {
     "data": {
      "text/html": [
       "<div>\n",
       "<style scoped>\n",
       "    .dataframe tbody tr th:only-of-type {\n",
       "        vertical-align: middle;\n",
       "    }\n",
       "\n",
       "    .dataframe tbody tr th {\n",
       "        vertical-align: top;\n",
       "    }\n",
       "\n",
       "    .dataframe thead th {\n",
       "        text-align: right;\n",
       "    }\n",
       "</style>\n",
       "<table border=\"1\" class=\"dataframe\">\n",
       "  <thead>\n",
       "    <tr style=\"text-align: right;\">\n",
       "      <th></th>\n",
       "      <th>cuisine</th>\n",
       "    </tr>\n",
       "    <tr>\n",
       "      <th>id</th>\n",
       "      <th></th>\n",
       "    </tr>\n",
       "  </thead>\n",
       "  <tbody>\n",
       "    <tr>\n",
       "      <th>18009</th>\n",
       "      <td>mexican</td>\n",
       "    </tr>\n",
       "    <tr>\n",
       "      <th>28583</th>\n",
       "      <td>southern_us</td>\n",
       "    </tr>\n",
       "    <tr>\n",
       "      <th>41580</th>\n",
       "      <td>mexican</td>\n",
       "    </tr>\n",
       "    <tr>\n",
       "      <th>29752</th>\n",
       "      <td>mexican</td>\n",
       "    </tr>\n",
       "    <tr>\n",
       "      <th>35687</th>\n",
       "      <td>italian</td>\n",
       "    </tr>\n",
       "  </tbody>\n",
       "</table>\n",
       "</div>"
      ],
      "text/plain": [
       "           cuisine\n",
       "id                \n",
       "18009      mexican\n",
       "28583  southern_us\n",
       "41580      mexican\n",
       "29752      mexican\n",
       "35687      italian"
      ]
     },
     "execution_count": 159,
     "metadata": {},
     "output_type": "execute_result"
    }
   ],
   "source": [
    "# create a DataFrame that only contains the IDs and predicted classes for the new data\n",
    "pd.DataFrame({'id':new.id, 'cuisine':new_pred_class_knn}).set_index('id').head()"
   ]
  },
  {
   "cell_type": "code",
   "execution_count": 169,
   "metadata": {},
   "outputs": [],
   "source": [
    "# create a submission file from that DataFrame (score: 0.21742)\n",
    "pd.DataFrame({'id':new.id, 'cuisine':new_pred_class_knn}).set_index('id').to_csv('cuisine_predictions.csv')"
   ]
  },
  {
   "cell_type": "markdown",
   "metadata": {},
   "source": [
    "## Searching for optimal tuning parameters using `GridSearchCV`"
   ]
  },
  {
   "cell_type": "code",
   "execution_count": 170,
   "metadata": {},
   "outputs": [],
   "source": [
    "\n",
    "# define a \"parameter grid\" in which the key is the parameter and the value is a list of options to try\n",
    "param_grid = {}\n",
    "param_grid['n_neighbors'] = [100, 200]\n",
    "param_grid\n",
    "# instantiate the grid\n",
    "grid = GridSearchCV(knn, param_grid, cv=5, scoring='accuracy')"
   ]
  },
  {
   "cell_type": "code",
   "execution_count": 171,
   "metadata": {},
   "outputs": [
    {
     "name": "stdout",
     "output_type": "stream",
     "text": [
      "CPU times: user 27.1 s, sys: 1.54 s, total: 28.6 s\n",
      "Wall time: 24.5 s\n"
     ]
    },
    {
     "data": {
      "text/plain": [
       "GridSearchCV(cv=5, error_score='raise-deprecating',\n",
       "       estimator=KNeighborsClassifier(algorithm='auto', leaf_size=30, metric='minkowski',\n",
       "           metric_params=None, n_jobs=None, n_neighbors=100, p=2,\n",
       "           weights='uniform'),\n",
       "       fit_params=None, iid='warn', n_jobs=None,\n",
       "       param_grid={'n_neighbors': [100, 200]}, pre_dispatch='2*n_jobs',\n",
       "       refit=True, return_train_score='warn', scoring='accuracy',\n",
       "       verbose=0)"
      ]
     },
     "execution_count": 171,
     "metadata": {},
     "output_type": "execute_result"
    }
   ],
   "source": [
    "# run the grid search : # time the grid search using an IPython \"magic function\"\n",
    "%time grid.fit(X, y)"
   ]
  },
  {
   "cell_type": "code",
   "execution_count": 163,
   "metadata": {},
   "outputs": [],
   "source": [
    "grid_mean_scores = [result for result in grid.cv_results_['mean_test_score']]"
   ]
  },
  {
   "cell_type": "code",
   "execution_count": 164,
   "metadata": {},
   "outputs": [
    {
     "data": {
      "text/plain": [
       "[<matplotlib.lines.Line2D at 0x122a4ef60>]"
      ]
     },
     "execution_count": 164,
     "metadata": {},
     "output_type": "execute_result"
    },
    {
     "data": {
      "image/png": "[encoded data removed]",
      "text/plain": [
       "<Figure size 432x288 with 1 Axes>"
      ]
     },
     "metadata": {},
     "output_type": "display_data"
    }
   ],
   "source": [
    "# line plot of K value (x-axis) versus accuracy (y-axis)\n",
    "plt.style.use('ggplot')\n",
    "\n",
    "plt.plot((100, 200), grid_mean_scores)"
   ]
  },
  {
   "cell_type": "code",
   "execution_count": 165,
   "metadata": {},
   "outputs": [
    {
     "name": "stdout",
     "output_type": "stream",
     "text": [
      "(0.2159199477045306, 0.0017227056318078696, {'n_neighbors': 100})\n",
      "(0.2194901191733293, 0.0018098715479753877, {'n_neighbors': 200})\n"
     ]
    }
   ],
   "source": [
    "for item in (zip(grid.cv_results_['mean_test_score'], grid.cv_results_['std_test_score'], grid.cv_results_['params'])):\n",
    "    print(item)"
   ]
  },
  {
   "cell_type": "code",
   "execution_count": 166,
   "metadata": {},
   "outputs": [
    {
     "data": {
      "text/plain": [
       "['mean_fit_time',\n",
       " 'mean_score_time',\n",
       " 'mean_test_score',\n",
       " 'mean_train_score',\n",
       " 'param_n_neighbors',\n",
       " 'params',\n",
       " 'rank_test_score',\n",
       " 'split0_test_score',\n",
       " 'split0_train_score',\n",
       " 'split1_test_score',\n",
       " 'split1_train_score',\n",
       " 'split2_test_score',\n",
       " 'split2_train_score',\n",
       " 'split3_test_score',\n",
       " 'split3_train_score',\n",
       " 'split4_test_score',\n",
       " 'split4_train_score',\n",
       " 'std_fit_time',\n",
       " 'std_score_time',\n",
       " 'std_test_score',\n",
       " 'std_train_score']"
      ]
     },
     "execution_count": 166,
     "metadata": {},
     "output_type": "execute_result"
    }
   ],
   "source": [
    "sorted(list(grid.cv_results_.keys()))"
   ]
  },
  {
   "cell_type": "code",
   "execution_count": 167,
   "metadata": {},
   "outputs": [
    {
     "name": "stdout",
     "output_type": "stream",
     "text": [
      "0.2194901191733293\n",
      "\n",
      "{'n_neighbors': 200}\n",
      "\n",
      "KNeighborsClassifier(algorithm='auto', leaf_size=30, metric='minkowski',\n",
      "           metric_params=None, n_jobs=None, n_neighbors=200, p=2,\n",
      "           weights='uniform')\n"
     ]
    }
   ],
   "source": [
    "# print the single best score and parameters that produced that score\n",
    "print(grid.best_score_)\n",
    "print()\n",
    "print(grid.best_params_)\n",
    "print()\n",
    "print(grid.best_estimator_)"
   ]
  },
  {
   "cell_type": "code",
   "execution_count": 168,
   "metadata": {},
   "outputs": [],
   "source": [
    "#Predict using best param\n",
    "new_pred_class_gridsearch = grid.predict(X_new)\n",
    "# create a submission file from that DataFrame (score: 0.21742)\n",
    "pd.DataFrame({'id':new.id, 'cuisine':new_pred_class_gridsearch}).set_index('id').to_csv('cuisine_predictions_gridsearch.csv')"
   ]
  },
  {
   "cell_type": "markdown",
   "metadata": {},
   "source": [
    "## Using a Pipeline for proper cross-validation"
   ]
  },
  {
   "cell_type": "code",
   "execution_count": 178,
   "metadata": {},
   "outputs": [],
   "source": [
    "X = train.ingredients_str\n",
    "y = train.cuisine"
   ]
  },
  {
   "cell_type": "code",
   "execution_count": 147,
   "metadata": {},
   "outputs": [],
   "source": [
    "# replace the regex pattern that is used for tokenization\n",
    "vect = CountVectorizer(token_pattern=r\"'([a-z ]+)'\")"
   ]
  },
  {
   "cell_type": "code",
   "execution_count": 148,
   "metadata": {},
   "outputs": [],
   "source": [
    "# import and instantiate Multinomial Naive Bayes (with the default parameters)\n",
    "nb = MultinomialNB()"
   ]
  },
  {
   "cell_type": "code",
   "execution_count": 149,
   "metadata": {},
   "outputs": [],
   "source": [
    "# create a pipeline of vectorization and Naive Bayes\n",
    "pipe = make_pipeline(vect, nb)"
   ]
  },
  {
   "cell_type": "code",
   "execution_count": 150,
   "metadata": {},
   "outputs": [
    {
     "data": {
      "text/plain": [
       "[('countvectorizer',\n",
       "  CountVectorizer(analyzer='word', binary=False, decode_error='strict',\n",
       "          dtype=<class 'numpy.int64'>, encoding='utf-8', input='content',\n",
       "          lowercase=True, max_df=1.0, max_features=None, min_df=1,\n",
       "          ngram_range=(1, 1), preprocessor=None, stop_words=None,\n",
       "          strip_accents=None, token_pattern=\"'([a-z ]+)'\", tokenizer=None,\n",
       "          vocabulary=None)),\n",
       " ('multinomialnb', MultinomialNB(alpha=1.0, class_prior=None, fit_prior=True))]"
      ]
     },
     "execution_count": 150,
     "metadata": {},
     "output_type": "execute_result"
    }
   ],
   "source": [
    "# examine the pipeline steps\n",
    "pipe.steps"
   ]
  },
  {
   "cell_type": "markdown",
   "metadata": {},
   "source": [
    "Cross validation\n",
    "\n",
    "By passing our pipeline to cross_val_score, features will be created from X (via CountVectorizer) within each fold of cross-validation.\n",
    "This process simulates the real world, in which your out-of-sample data will contain features that were not seen during model training."
   ]
  },
  {
   "cell_type": "code",
   "execution_count": 151,
   "metadata": {},
   "outputs": [
    {
     "data": {
      "text/plain": [
       "0.7322884933790151"
      ]
     },
     "execution_count": 151,
     "metadata": {},
     "output_type": "execute_result"
    }
   ],
   "source": [
    "cross_val_score(pipe, X, y, cv=5, scoring='accuracy').mean()"
   ]
  },
  {
   "cell_type": "code",
   "execution_count": 152,
   "metadata": {},
   "outputs": [
    {
     "data": {
      "text/plain": [
       "Pipeline(memory=None,\n",
       "     steps=[('countvectorizer', CountVectorizer(analyzer='word', binary=False, decode_error='strict',\n",
       "        dtype=<class 'numpy.int64'>, encoding='utf-8', input='content',\n",
       "        lowercase=True, max_df=1.0, max_features=None, min_df=1,\n",
       "        ngram_range=(1, 1), preprocessor=None, stop_words=None,\n",
       "        strip_accents=None, token_pattern=\"'([a-z ]+)'\", tokenizer=None,\n",
       "        vocabulary=None)), ('multinomialnb', MultinomialNB(alpha=1.0, class_prior=None, fit_prior=True))])"
      ]
     },
     "execution_count": 152,
     "metadata": {},
     "output_type": "execute_result"
    }
   ],
   "source": [
    "# fit the pipeline (rather than just the model)\n",
    "pipe.fit(X, y)"
   ]
  },
  {
   "cell_type": "code",
   "execution_count": 162,
   "metadata": {},
   "outputs": [],
   "source": [
    "# define X_new as a Series of strings\n",
    "X_new = new.ingredients_str"
   ]
  },
  {
   "cell_type": "code",
   "execution_count": 163,
   "metadata": {},
   "outputs": [],
   "source": [
    "# use the pipeline to make predictions for the new data\n",
    "new_pred_class_pipe = pipe.predict(X_new)"
   ]
  },
  {
   "cell_type": "code",
   "execution_count": 164,
   "metadata": {},
   "outputs": [
    {
     "data": {
      "text/plain": [
       "dict_keys(['countvectorizer', 'multinomialnb'])"
      ]
     },
     "execution_count": 164,
     "metadata": {},
     "output_type": "execute_result"
    }
   ],
   "source": [
    "pipe.named_steps.keys()"
   ]
  },
  {
   "cell_type": "code",
   "execution_count": 165,
   "metadata": {},
   "outputs": [],
   "source": [
    "# create a submission file (score: 0.73663)\n",
    "pd.DataFrame({'id':new.id, 'cuisine':new_pred_class_pipe}).set_index('id').to_csv('prediction_pipeline.csv')"
   ]
  },
  {
   "cell_type": "markdown",
   "metadata": {},
   "source": [
    "## Pipeline with Grid Search"
   ]
  },
  {
   "cell_type": "code",
   "execution_count": 167,
   "metadata": {},
   "outputs": [
    {
     "data": {
      "text/plain": [
       "{'countvectorizer__token_pattern': ['\\\\b\\\\w\\\\w+\\\\b', \"'([a-z ]+)'\"],\n",
       " 'multinomialnb__alpha': [0.5, 1]}"
      ]
     },
     "execution_count": 167,
     "metadata": {},
     "output_type": "execute_result"
    }
   ],
   "source": [
    "# create a grid of parameters to search (and specify the pipeline step along with the parameter)\n",
    "param_grid = {}\n",
    "param_grid['countvectorizer__token_pattern'] = [r\"\\b\\w\\w+\\b\", r\"'([a-z ]+)'\"]\n",
    "param_grid['multinomialnb__alpha'] = [0.5, 1]\n",
    "param_grid"
   ]
  },
  {
   "cell_type": "code",
   "execution_count": 168,
   "metadata": {},
   "outputs": [],
   "source": [
    "# pass the pipeline (instead of the model) to GridSearchCV\n",
    "grid = GridSearchCV(pipe, param_grid, cv=5, scoring='accuracy')"
   ]
  },
  {
   "cell_type": "code",
   "execution_count": 169,
   "metadata": {},
   "outputs": [
    {
     "name": "stdout",
     "output_type": "stream",
     "text": [
      "CPU times: user 41.5 s, sys: 890 ms, total: 42.4 s\n",
      "Wall time: 45 s\n"
     ]
    },
    {
     "data": {
      "text/plain": [
       "GridSearchCV(cv=5, error_score='raise-deprecating',\n",
       "       estimator=Pipeline(memory=None,\n",
       "     steps=[('countvectorizer', CountVectorizer(analyzer='word', binary=False, decode_error='strict',\n",
       "        dtype=<class 'numpy.int64'>, encoding='utf-8', input='content',\n",
       "        lowercase=True, max_df=1.0, max_features=None, min_df=1,\n",
       "        ngram_range=(1, 1), p...  vocabulary=None)), ('multinomialnb', MultinomialNB(alpha=1.0, class_prior=None, fit_prior=True))]),\n",
       "       fit_params=None, iid='warn', n_jobs=None,\n",
       "       param_grid={'countvectorizer__token_pattern': ['\\\\b\\\\w\\\\w+\\\\b', \"'([a-z ]+)'\"], 'multinomialnb__alpha': [0.5, 1]},\n",
       "       pre_dispatch='2*n_jobs', refit=True, return_train_score='warn',\n",
       "       scoring='accuracy', verbose=0)"
      ]
     },
     "execution_count": 169,
     "metadata": {},
     "output_type": "execute_result"
    }
   ],
   "source": [
    "# time the grid search\n",
    "%time grid.fit(X, y)"
   ]
  },
  {
   "cell_type": "code",
   "execution_count": 170,
   "metadata": {},
   "outputs": [
    {
     "name": "stdout",
     "output_type": "stream",
     "text": [
      "0.7476995021873586\n",
      "{'countvectorizer__token_pattern': \"'([a-z ]+)'\", 'multinomialnb__alpha': 0.5}\n"
     ]
    }
   ],
   "source": [
    "# print the single best score and parameters that produced that score\n",
    "print(grid.best_score_)\n",
    "print(grid.best_params_)"
   ]
  },
  {
   "cell_type": "markdown",
   "metadata": {},
   "source": [
    "## Efficiently searching for tuning parameters using RandomizedSearchCV"
   ]
  },
  {
   "cell_type": "code",
   "execution_count": 186,
   "metadata": {},
   "outputs": [
    {
     "data": {
      "text/plain": [
       "{'countvectorizer__token_pattern': ['\\\\b\\\\w\\\\w+\\\\b', \"'([a-z ]+)'\"],\n",
       " 'countvectorizer__min_df': [1, 2, 3],\n",
       " 'multinomialnb__alpha': <scipy.stats._distn_infrastructure.rv_frozen at 0x11d4929e8>}"
      ]
     },
     "execution_count": 186,
     "metadata": {},
     "output_type": "execute_result"
    }
   ],
   "source": [
    "# for any continuous parameters, specify a distribution instead of a list of options\n",
    "param_grid = {}\n",
    "param_grid['countvectorizer__token_pattern'] = [r\"\\b\\w\\w+\\b\", r\"'([a-z ]+)'\"]\n",
    "param_grid['countvectorizer__min_df'] = [1, 2, 3]\n",
    "param_grid['multinomialnb__alpha'] = sp.stats.uniform(scale=1)\n",
    "param_grid"
   ]
  },
  {
   "cell_type": "code",
   "execution_count": 187,
   "metadata": {},
   "outputs": [],
   "source": [
    "# set a random seed for sp.stats.uniform\n",
    "np.random.seed(1)"
   ]
  },
  {
   "cell_type": "code",
   "execution_count": 188,
   "metadata": {},
   "outputs": [],
   "source": [
    "from sklearn.model_selection import RandomizedSearchCV"
   ]
  },
  {
   "cell_type": "code",
   "execution_count": 198,
   "metadata": {},
   "outputs": [],
   "source": [
    "pipe = make_pipeline(CountVectorizer(token_pattern=r\"'([a-z ]+)'\"), MultinomialNB())"
   ]
  },
  {
   "cell_type": "code",
   "execution_count": 199,
   "metadata": {},
   "outputs": [],
   "source": [
    "# additional parameters are n_iter (number of searches) and random_state\n",
    "rand = RandomizedSearchCV(pipe, param_grid, cv=5, scoring='accuracy', n_iter=5, random_state=1)"
   ]
  },
  {
   "cell_type": "code",
   "execution_count": 200,
   "metadata": {},
   "outputs": [
    {
     "name": "stdout",
     "output_type": "stream",
     "text": [
      "CPU times: user 51.6 s, sys: 1.07 s, total: 52.7 s\n",
      "Wall time: 53.9 s\n"
     ]
    },
    {
     "data": {
      "text/plain": [
       "RandomizedSearchCV(cv=5, error_score='raise-deprecating',\n",
       "          estimator=Pipeline(memory=None,\n",
       "     steps=[('countvectorizer', CountVectorizer(analyzer='word', binary=False, decode_error='strict',\n",
       "        dtype=<class 'numpy.int64'>, encoding='utf-8', input='content',\n",
       "        lowercase=True, max_df=1.0, max_features=None, min_df=1,\n",
       "        ngram_range=(1, 1), p...  vocabulary=None)), ('multinomialnb', MultinomialNB(alpha=1.0, class_prior=None, fit_prior=True))]),\n",
       "          fit_params=None, iid='warn', n_iter=5, n_jobs=None,\n",
       "          param_distributions={'countvectorizer__token_pattern': ['\\\\b\\\\w\\\\w+\\\\b', \"'([a-z ]+)'\"], 'countvectorizer__min_df': [1, 2, 3], 'multinomialnb__alpha': <scipy.stats._distn_infrastructure.rv_frozen object at 0x11d4929e8>},\n",
       "          pre_dispatch='2*n_jobs', random_state=1, refit=True,\n",
       "          return_train_score='warn', scoring='accuracy', verbose=0)"
      ]
     },
     "execution_count": 200,
     "metadata": {},
     "output_type": "execute_result"
    }
   ],
   "source": [
    "# time the randomized search\n",
    "%time rand.fit(X, y)"
   ]
  },
  {
   "cell_type": "code",
   "execution_count": 201,
   "metadata": {},
   "outputs": [
    {
     "name": "stdout",
     "output_type": "stream",
     "text": [
      "0.745436717453613\n",
      "{'countvectorizer__min_df': 2, 'countvectorizer__token_pattern': \"'([a-z ]+)'\", 'multinomialnb__alpha': 0.7203244934421581}\n"
     ]
    }
   ],
   "source": [
    "print(rand.best_score_)\n",
    "print(rand.best_params_)"
   ]
  },
  {
   "cell_type": "code",
   "execution_count": null,
   "metadata": {},
   "outputs": [],
   "source": [
    "# define X_new as the ingredient text\n",
    "X_new = new.ingredients_str"
   ]
  },
  {
   "cell_type": "code",
   "execution_count": null,
   "metadata": {},
   "outputs": [],
   "source": [
    "# print the best model found by RandomizedSearchCV\n",
    "rand.best_estimator_"
   ]
  },
  {
   "cell_type": "code",
   "execution_count": null,
   "metadata": {},
   "outputs": [],
   "source": [
    "# RandomizedSearchCV/GridSearchCV automatically refit the best model with the entire dataset, and can be used to make predictions\n",
    "new_pred_class_rand = rand.predict(X_new)\n",
    "new_pred_class_rand"
   ]
  },
  {
   "cell_type": "code",
   "execution_count": null,
   "metadata": {},
   "outputs": [],
   "source": [
    "# create a submission file (score: 0.75342)\n",
    "pd.DataFrame({'id':new.id, 'cuisine':new_pred_class_rand}).set_index('id').to_csv('predictions_randomizedsearch.csv')"
   ]
  },
  {
   "cell_type": "markdown",
   "metadata": {},
   "source": [
    "## Combining numerical and text features using transformer, featureunion, pipeline, cross validation and grid search\n",
    "\n",
    "To train a model on both types of features, we need to combine them into a single feature matrix.\n",
    "Because one of the matrices is sparse and the other is dense, the easiest way to combine them is by using SciPy."
   ]
  },
  {
   "cell_type": "markdown",
   "metadata": {},
   "source": [
    "Simple way: just combine them, it does not allow us to do proper cross-validation, and it doesn't integrate well with the rest of the scikit-learn workflow."
   ]
  },
  {
   "cell_type": "code",
   "execution_count": 192,
   "metadata": {},
   "outputs": [],
   "source": [
    "X_dtm = vect.fit_transform(X)\n",
    "X_manual = train.loc[:, ['num_ingredients', 'ingredient_length']]\n",
    "X_manual_sparse = sp.sparse.csr_matrix(X_manual)\n",
    "X_dtm_manual = sp.sparse.hstack([X_dtm, X_manual_sparse])"
   ]
  },
  {
   "cell_type": "markdown",
   "metadata": {},
   "source": [
    "Better way : Using Transformers and Feature Union"
   ]
  },
  {
   "cell_type": "code",
   "execution_count": 193,
   "metadata": {},
   "outputs": [],
   "source": [
    "# define a function that accepts a DataFrame returns the manually created features\n",
    "def get_manual(df):\n",
    "    return df.loc[:, ['num_ingredients', 'ingredient_length']]"
   ]
  },
  {
   "cell_type": "code",
   "execution_count": 194,
   "metadata": {},
   "outputs": [
    {
     "data": {
      "text/html": [
       "<div>\n",
       "<style scoped>\n",
       "    .dataframe tbody tr th:only-of-type {\n",
       "        vertical-align: middle;\n",
       "    }\n",
       "\n",
       "    .dataframe tbody tr th {\n",
       "        vertical-align: top;\n",
       "    }\n",
       "\n",
       "    .dataframe thead th {\n",
       "        text-align: right;\n",
       "    }\n",
       "</style>\n",
       "<table border=\"1\" class=\"dataframe\">\n",
       "  <thead>\n",
       "    <tr style=\"text-align: right;\">\n",
       "      <th></th>\n",
       "      <th>num_ingredients</th>\n",
       "      <th>ingredient_length</th>\n",
       "    </tr>\n",
       "  </thead>\n",
       "  <tbody>\n",
       "    <tr>\n",
       "      <th>0</th>\n",
       "      <td>9</td>\n",
       "      <td>12.000000</td>\n",
       "    </tr>\n",
       "    <tr>\n",
       "      <th>1</th>\n",
       "      <td>11</td>\n",
       "      <td>10.090909</td>\n",
       "    </tr>\n",
       "    <tr>\n",
       "      <th>2</th>\n",
       "      <td>12</td>\n",
       "      <td>10.333333</td>\n",
       "    </tr>\n",
       "    <tr>\n",
       "      <th>3</th>\n",
       "      <td>4</td>\n",
       "      <td>6.750000</td>\n",
       "    </tr>\n",
       "    <tr>\n",
       "      <th>4</th>\n",
       "      <td>20</td>\n",
       "      <td>10.100000</td>\n",
       "    </tr>\n",
       "  </tbody>\n",
       "</table>\n",
       "</div>"
      ],
      "text/plain": [
       "   num_ingredients  ingredient_length\n",
       "0                9          12.000000\n",
       "1               11          10.090909\n",
       "2               12          10.333333\n",
       "3                4           6.750000\n",
       "4               20          10.100000"
      ]
     },
     "execution_count": 194,
     "metadata": {},
     "output_type": "execute_result"
    }
   ],
   "source": [
    "# create a stateless transformer from the get_manual function\n",
    "get_manual_ft = FunctionTransformer(get_manual, validate=False)\n",
    "get_manual_ft.transform(train).head()"
   ]
  },
  {
   "cell_type": "code",
   "execution_count": 126,
   "metadata": {},
   "outputs": [],
   "source": [
    "# define a function that accepts a DataFrame returns the ingredients string\n",
    "def get_text(df):\n",
    "    return df.ingredients_str"
   ]
  },
  {
   "cell_type": "code",
   "execution_count": 83,
   "metadata": {},
   "outputs": [
    {
     "data": {
      "text/plain": [
       "0    ['romaine lettuce', 'black olives', 'grape tomatoes', 'garlic', 'pepper', 'purple onion', 'seaso...\n",
       "1    ['plain flour', 'ground pepper', 'salt', 'tomatoes', 'ground black pepper', 'thyme', 'eggs', 'gr...\n",
       "2    ['eggs', 'pepper', 'salt', 'mayonaise', 'cooking oil', 'green chilies', 'grilled chicken breasts...\n",
       "3                                                            ['water', 'vegetable oil', 'wheat', 'salt']\n",
       "4    ['black pepper', 'shallots', 'cornflour', 'cayenne pepper', 'onions', 'garlic paste', 'milk', 'b...\n",
       "Name: ingredients_str, dtype: object"
      ]
     },
     "execution_count": 83,
     "metadata": {},
     "output_type": "execute_result"
    }
   ],
   "source": [
    "# create and test another transformer\n",
    "get_text_ft = FunctionTransformer(get_text, validate=False)\n",
    "get_text_ft.transform(train).head()"
   ]
  },
  {
   "cell_type": "code",
   "execution_count": 84,
   "metadata": {},
   "outputs": [
    {
     "data": {
      "text/plain": [
       "(39774, 6252)"
      ]
     },
     "execution_count": 84,
     "metadata": {},
     "output_type": "execute_result"
    }
   ],
   "source": [
    "# properly combine the transformers into a FeatureUnion\n",
    "union = make_union(make_pipeline(get_text_ft, vect), get_manual_ft)\n",
    "X_dtm_manual = union.fit_transform(train)\n",
    "X_dtm_manual.shape"
   ]
  },
  {
   "cell_type": "code",
   "execution_count": 87,
   "metadata": {},
   "outputs": [
    {
     "data": {
      "text/plain": [
       "0.7102895106852953"
      ]
     },
     "execution_count": 87,
     "metadata": {},
     "output_type": "execute_result"
    }
   ],
   "source": [
    "# slightly improper cross-validation\n",
    "cross_val_score(nb, X_dtm_manual, y, cv=5, scoring='accuracy').mean()"
   ]
  },
  {
   "cell_type": "code",
   "execution_count": 89,
   "metadata": {},
   "outputs": [
    {
     "data": {
      "text/plain": [
       "0.7134318388611878"
      ]
     },
     "execution_count": 89,
     "metadata": {},
     "output_type": "execute_result"
    }
   ],
   "source": [
    "# create a pipeline of the FeatureUnion and Naive Bayes\n",
    "pipe = make_pipeline(union, nb)\n",
    "# properly cross-validate the entire pipeline (and pass it the entire DataFrame)\n",
    "cross_val_score(pipe, train, y, cv=5, scoring='accuracy').mean()"
   ]
  },
  {
   "cell_type": "markdown",
   "metadata": {},
   "source": [
    "### Grid Search"
   ]
  },
  {
   "cell_type": "code",
   "execution_count": 91,
   "metadata": {},
   "outputs": [
    {
     "name": "stdout",
     "output_type": "stream",
     "text": [
      "CPU times: user 55.5 s, sys: 1.48 s, total: 56.9 s\n",
      "Wall time: 46.9 s\n",
      "0.7426710916679238\n",
      "{'featureunion__pipeline__countvectorizer__token_pattern': \"'([a-z ]+)'\", 'multinomialnb__alpha': 0.5}\n"
     ]
    }
   ],
   "source": [
    "# duplicate the pipeline structure without using make_pipeline or make_union\n",
    "from sklearn.pipeline import Pipeline, FeatureUnion\n",
    "pipe = Pipeline([\n",
    "    ('featureunion', FeatureUnion([\n",
    "            ('pipeline', Pipeline([\n",
    "                    ('functiontransformer', get_text_ft),\n",
    "                    ('countvectorizer', vect)\n",
    "                    ])),\n",
    "            ('functiontransformer', get_manual_ft)\n",
    "        ])),\n",
    "    ('multinomialnb', nb)\n",
    "])\n",
    "param_grid = {}\n",
    "param_grid['featureunion__pipeline__countvectorizer__token_pattern'] = [r\"\\b\\w\\w+\\b\", r\"'([a-z ]+)'\"]\n",
    "param_grid['multinomialnb__alpha'] = [0.5, 1]\n",
    "param_grid\n",
    "grid = GridSearchCV(pipe, param_grid, cv=5, scoring='accuracy')\n",
    "%time grid.fit(train, y)\n",
    "print(grid.best_score_)\n",
    "print(grid.best_params_)"
   ]
  },
  {
   "cell_type": "markdown",
   "metadata": {},
   "source": [
    "## Ensembling models"
   ]
  },
  {
   "cell_type": "markdown",
   "metadata": {},
   "source": [
    "### Model 1: KNN model using only manually created features"
   ]
  },
  {
   "cell_type": "code",
   "execution_count": 92,
   "metadata": {},
   "outputs": [
    {
     "data": {
      "text/plain": [
       "1.0"
      ]
     },
     "execution_count": 92,
     "metadata": {},
     "output_type": "execute_result"
    }
   ],
   "source": [
    "# define X and y\n",
    "feature_cols = ['num_ingredients', 'ingredient_length']\n",
    "X = train[feature_cols]\n",
    "y = train.cuisine\n",
    "# use KNN with K=800\n",
    "from sklearn.neighbors import KNeighborsClassifier\n",
    "knn = KNeighborsClassifier(n_neighbors=800)\n",
    "# train KNN on all of the training data\n",
    "knn.fit(X, y)\n",
    "# define X_new as the manually created features\n",
    "X_new = new[feature_cols]\n",
    "# calculate predicted probabilities of class membership for the new data\n",
    "new_pred_prob_knn = knn.predict_proba(X_new)\n",
    "new_pred_prob_knn.shape\n",
    "# display classes with probabilities\n",
    "zip(knn.classes_, new_pred_prob_knn[0, :])\n",
    "# predicted probabilities will sum to 1 for each row\n",
    "new_pred_prob_knn[0, :].sum()"
   ]
  },
  {
   "cell_type": "markdown",
   "metadata": {},
   "source": [
    "### Model 2: Naive Bayes model using only text features"
   ]
  },
  {
   "cell_type": "code",
   "execution_count": 202,
   "metadata": {},
   "outputs": [
    {
     "data": {
      "text/plain": [
       "(9944, 20)"
      ]
     },
     "execution_count": 202,
     "metadata": {},
     "output_type": "execute_result"
    }
   ],
   "source": [
    "# define X_new as the ingredient text\n",
    "X_new = new.ingredients_str\n",
    "# calculate predicted probabilities of class membership for the new data\n",
    "new_pred_prob_rand = rand.predict_proba(X_new)\n",
    "new_pred_prob_rand.shape"
   ]
  },
  {
   "cell_type": "code",
   "execution_count": 205,
   "metadata": {},
   "outputs": [
    {
     "data": {
      "text/html": [
       "<div>\n",
       "<style scoped>\n",
       "    .dataframe tbody tr th:only-of-type {\n",
       "        vertical-align: middle;\n",
       "    }\n",
       "\n",
       "    .dataframe tbody tr th {\n",
       "        vertical-align: top;\n",
       "    }\n",
       "\n",
       "    .dataframe thead th {\n",
       "        text-align: right;\n",
       "    }\n",
       "</style>\n",
       "<table border=\"1\" class=\"dataframe\">\n",
       "  <thead>\n",
       "    <tr style=\"text-align: right;\">\n",
       "      <th></th>\n",
       "      <th>brazilian</th>\n",
       "      <th>british</th>\n",
       "      <th>cajun_creole</th>\n",
       "      <th>chinese</th>\n",
       "      <th>filipino</th>\n",
       "      <th>french</th>\n",
       "      <th>greek</th>\n",
       "      <th>indian</th>\n",
       "      <th>irish</th>\n",
       "      <th>italian</th>\n",
       "      <th>jamaican</th>\n",
       "      <th>japanese</th>\n",
       "      <th>korean</th>\n",
       "      <th>mexican</th>\n",
       "      <th>moroccan</th>\n",
       "      <th>russian</th>\n",
       "      <th>southern_us</th>\n",
       "      <th>spanish</th>\n",
       "      <th>thai</th>\n",
       "      <th>vietnamese</th>\n",
       "    </tr>\n",
       "  </thead>\n",
       "  <tbody>\n",
       "    <tr>\n",
       "      <th>0</th>\n",
       "      <td>0.013305</td>\n",
       "      <td>0.215855</td>\n",
       "      <td>0.006912</td>\n",
       "      <td>0.02194</td>\n",
       "      <td>0.018377</td>\n",
       "      <td>0.041046</td>\n",
       "      <td>0.008991</td>\n",
       "      <td>0.037768</td>\n",
       "      <td>0.074930</td>\n",
       "      <td>0.071042</td>\n",
       "      <td>0.005103</td>\n",
       "      <td>0.037859</td>\n",
       "      <td>0.009378</td>\n",
       "      <td>0.083322</td>\n",
       "      <td>0.004380</td>\n",
       "      <td>0.014810</td>\n",
       "      <td>0.296072</td>\n",
       "      <td>0.012661</td>\n",
       "      <td>0.013751</td>\n",
       "      <td>0.012500</td>\n",
       "    </tr>\n",
       "    <tr>\n",
       "      <th>1</th>\n",
       "      <td>0.008752</td>\n",
       "      <td>0.011794</td>\n",
       "      <td>0.016875</td>\n",
       "      <td>0.04500</td>\n",
       "      <td>0.018143</td>\n",
       "      <td>0.024328</td>\n",
       "      <td>0.015625</td>\n",
       "      <td>0.046250</td>\n",
       "      <td>0.010630</td>\n",
       "      <td>0.070625</td>\n",
       "      <td>0.005626</td>\n",
       "      <td>0.027503</td>\n",
       "      <td>0.021875</td>\n",
       "      <td>0.066875</td>\n",
       "      <td>0.008125</td>\n",
       "      <td>0.008751</td>\n",
       "      <td>0.546973</td>\n",
       "      <td>0.007500</td>\n",
       "      <td>0.025625</td>\n",
       "      <td>0.013125</td>\n",
       "    </tr>\n",
       "    <tr>\n",
       "      <th>2</th>\n",
       "      <td>0.013627</td>\n",
       "      <td>0.009447</td>\n",
       "      <td>0.007219</td>\n",
       "      <td>0.02000</td>\n",
       "      <td>0.015059</td>\n",
       "      <td>0.045080</td>\n",
       "      <td>0.011783</td>\n",
       "      <td>0.029383</td>\n",
       "      <td>0.013628</td>\n",
       "      <td>0.449318</td>\n",
       "      <td>0.005651</td>\n",
       "      <td>0.038760</td>\n",
       "      <td>0.007505</td>\n",
       "      <td>0.080644</td>\n",
       "      <td>0.024697</td>\n",
       "      <td>0.008373</td>\n",
       "      <td>0.079388</td>\n",
       "      <td>0.112301</td>\n",
       "      <td>0.015626</td>\n",
       "      <td>0.012510</td>\n",
       "    </tr>\n",
       "    <tr>\n",
       "      <th>3</th>\n",
       "      <td>0.003125</td>\n",
       "      <td>0.004375</td>\n",
       "      <td>0.533750</td>\n",
       "      <td>0.03875</td>\n",
       "      <td>0.001875</td>\n",
       "      <td>0.023125</td>\n",
       "      <td>0.006250</td>\n",
       "      <td>0.075625</td>\n",
       "      <td>0.001250</td>\n",
       "      <td>0.051875</td>\n",
       "      <td>0.011875</td>\n",
       "      <td>0.008125</td>\n",
       "      <td>0.003125</td>\n",
       "      <td>0.107500</td>\n",
       "      <td>0.029375</td>\n",
       "      <td>0.001875</td>\n",
       "      <td>0.025000</td>\n",
       "      <td>0.007500</td>\n",
       "      <td>0.038125</td>\n",
       "      <td>0.027500</td>\n",
       "    </tr>\n",
       "    <tr>\n",
       "      <th>4</th>\n",
       "      <td>0.001877</td>\n",
       "      <td>0.009598</td>\n",
       "      <td>0.020083</td>\n",
       "      <td>0.02125</td>\n",
       "      <td>0.003126</td>\n",
       "      <td>0.045360</td>\n",
       "      <td>0.017502</td>\n",
       "      <td>0.013750</td>\n",
       "      <td>0.012539</td>\n",
       "      <td>0.640831</td>\n",
       "      <td>0.003754</td>\n",
       "      <td>0.007500</td>\n",
       "      <td>0.003750</td>\n",
       "      <td>0.083130</td>\n",
       "      <td>0.004377</td>\n",
       "      <td>0.003133</td>\n",
       "      <td>0.072734</td>\n",
       "      <td>0.018206</td>\n",
       "      <td>0.014375</td>\n",
       "      <td>0.003125</td>\n",
       "    </tr>\n",
       "  </tbody>\n",
       "</table>\n",
       "</div>"
      ],
      "text/plain": [
       "   brazilian   british  cajun_creole  chinese  filipino    french     greek  \\\n",
       "0   0.013305  0.215855      0.006912  0.02194  0.018377  0.041046  0.008991   \n",
       "1   0.008752  0.011794      0.016875  0.04500  0.018143  0.024328  0.015625   \n",
       "2   0.013627  0.009447      0.007219  0.02000  0.015059  0.045080  0.011783   \n",
       "3   0.003125  0.004375      0.533750  0.03875  0.001875  0.023125  0.006250   \n",
       "4   0.001877  0.009598      0.020083  0.02125  0.003126  0.045360  0.017502   \n",
       "\n",
       "     indian     irish   italian  jamaican  japanese    korean   mexican  \\\n",
       "0  0.037768  0.074930  0.071042  0.005103  0.037859  0.009378  0.083322   \n",
       "1  0.046250  0.010630  0.070625  0.005626  0.027503  0.021875  0.066875   \n",
       "2  0.029383  0.013628  0.449318  0.005651  0.038760  0.007505  0.080644   \n",
       "3  0.075625  0.001250  0.051875  0.011875  0.008125  0.003125  0.107500   \n",
       "4  0.013750  0.012539  0.640831  0.003754  0.007500  0.003750  0.083130   \n",
       "\n",
       "   moroccan   russian  southern_us   spanish      thai  vietnamese  \n",
       "0  0.004380  0.014810     0.296072  0.012661  0.013751    0.012500  \n",
       "1  0.008125  0.008751     0.546973  0.007500  0.025625    0.013125  \n",
       "2  0.024697  0.008373     0.079388  0.112301  0.015626    0.012510  \n",
       "3  0.029375  0.001875     0.025000  0.007500  0.038125    0.027500  \n",
       "4  0.004377  0.003133     0.072734  0.018206  0.014375    0.003125  "
      ]
     },
     "execution_count": 205,
     "metadata": {},
     "output_type": "execute_result"
    }
   ],
   "source": [
    "# calculate the mean of the predicted probabilities for all rows\n",
    "new_pred_prob = pd.DataFrame((new_pred_prob_knn + new_pred_prob_rand) / 2, columns=knn.classes_)\n",
    "new_pred_prob.head()"
   ]
  },
  {
   "cell_type": "code",
   "execution_count": 206,
   "metadata": {},
   "outputs": [
    {
     "name": "stderr",
     "output_type": "stream",
     "text": [
      "/Users/swetha/anaconda3/lib/python3.7/site-packages/numpy/core/fromnumeric.py:51: FutureWarning: 'argmax' is deprecated, use 'idxmax' instead. The behavior of 'argmax'\n",
      "will be corrected to return the positional maximum in the future.\n",
      "Use 'series.values.argmax' to get the position of the maximum now.\n",
      "  return getattr(obj, method)(*args, **kwds)\n"
     ]
    },
    {
     "data": {
      "text/plain": [
       "0     southern_us\n",
       "1     southern_us\n",
       "2         italian\n",
       "3    cajun_creole\n",
       "4         italian\n",
       "dtype: object"
      ]
     },
     "execution_count": 206,
     "metadata": {},
     "output_type": "execute_result"
    }
   ],
   "source": [
    "# for each row, find the column with the highest predicted probability\n",
    "new_pred_class = new_pred_prob.apply(np.argmax, axis=1)\n",
    "new_pred_class.head()"
   ]
  },
  {
   "cell_type": "code",
   "execution_count": 208,
   "metadata": {},
   "outputs": [],
   "source": [
    "# create a submission file (score: 0.75241)\n",
    "pd.DataFrame({'id':new.id, 'cuisine':new_pred_class}).set_index('id').to_csv('predicted_cuisine_ensemble.csv')"
   ]
  },
  {
   "cell_type": "markdown",
   "metadata": {},
   "source": [
    "## Locating groups of similar cuisines"
   ]
  },
  {
   "cell_type": "code",
   "execution_count": 111,
   "metadata": {},
   "outputs": [
    {
     "data": {
      "text/plain": [
       "cuisine\n",
       "brazilian       ['ice cubes', 'club soda', 'white rum', 'lime', 'turbinado']['eggs', 'hearts of palm', 'cilantro...\n",
       "british         ['greek yogurt', 'lemon curd', 'confectioners sugar', 'raspberries']['demerara sugar', 'egg whit...\n",
       "cajun_creole    ['herbs', 'lemon juice', 'fresh tomatoes', 'paprika', 'mango', 'stock', 'chile pepper', 'onions'...\n",
       "chinese         ['low sodium soy sauce', 'fresh ginger', 'dry mustard', 'green beans', 'white pepper', 'sesame o...\n",
       "filipino        ['eggs', 'pepper', 'salt', 'mayonaise', 'cooking oil', 'green chilies', 'grilled chicken breasts...\n",
       "french          ['sugar', 'salt', 'fennel bulb', 'water', 'lemon olive oil', 'grapefruit juice']['vanilla', 'mil...\n",
       "greek           ['romaine lettuce', 'black olives', 'grape tomatoes', 'garlic', 'pepper', 'purple onion', 'seaso...\n",
       "indian          ['water', 'vegetable oil', 'wheat', 'salt']['black pepper', 'shallots', 'cornflour', 'cayenne pe...\n",
       "irish           ['cooking spray', 'salt', 'black pepper', 'yukon gold potatoes', 'low-fat sour cream', 'leeks', ...\n",
       "italian         ['sugar', 'pistachio nuts', 'white almond bark', 'flour', 'vanilla extract', 'olive oil', 'almon...\n",
       "jamaican        ['plain flour', 'sugar', 'butter', 'eggs', 'fresh ginger root', 'salt', 'ground cinnamon', 'milk...\n",
       "japanese        ['sirloin', 'mirin', 'yellow onion', 'low sodium soy sauce', 'water', 'corn oil', 'sugar', 'gree...\n",
       "korean          ['jasmine rice', 'garlic', 'scallions', 'sugar', 'shiitake', 'Gochujang base', 'beansprouts', 't...\n",
       "mexican         ['olive oil', 'purple onion', 'fresh pineapple', 'pork', 'poblano peppers', 'corn tortillas', 'c...\n",
       "moroccan        ['ground cloves', 'whole nutmegs', 'ground ginger', 'ground coriander', 'ground cinnamon', 'grou...\n",
       "russian         ['water', 'grits', 'mozzarella cheese', 'salt']['water', 'dill', 'sugar', 'buttermilk', 'onions'...\n",
       "southern_us     ['plain flour', 'ground pepper', 'salt', 'tomatoes', 'ground black pepper', 'thyme', 'eggs', 'gr...\n",
       "spanish         ['olive oil', 'salt', 'medium shrimp', 'pepper', 'garlic', 'chopped cilantro', 'jalapeno chilies...\n",
       "thai            ['sugar', 'hot chili', 'asian fish sauce', 'lime juice']['pork loin', 'roasted peanuts', 'choppe...\n",
       "vietnamese      ['soy sauce', 'vegetable oil', 'red bell pepper', 'chicken broth', 'yellow squash', 'garlic chil...\n",
       "Name: ingredients_str, dtype: object"
      ]
     },
     "execution_count": 111,
     "metadata": {},
     "output_type": "execute_result"
    }
   ],
   "source": [
    "# for each cuisine, combine all of the recipes into a single string\n",
    "cuisine_ingredients = train.groupby('cuisine').ingredients_str.sum()\n",
    "cuisine_ingredients"
   ]
  },
  {
   "cell_type": "code",
   "execution_count": 117,
   "metadata": {},
   "outputs": [
    {
     "data": {
      "text/plain": [
       "\"['ice cubes', 'club soda', 'white rum', 'lime', 'turbinado']['eggs', 'hearts of palm', 'cilantro', 'coconut cream', 'flax seed meal', 'kosher salt', 'jalapeno chilies', 'garlic', 'cream cheese, soften', 'coconut oil', 'lime juice', 'crushed red pepper flakes', 'ground coriander', 'pepper', 'chicken breasts', 'coconut flour', 'onions']['sweetened condensed milk', 'butter', 'cocoa powder']['lime', 'crushed ice', 'simple syrup', 'cachaca']['sugar', 'corn starch', 'egg whites', 'boiling water', 'col\""
      ]
     },
     "execution_count": 117,
     "metadata": {},
     "output_type": "execute_result"
    }
   ],
   "source": [
    "# examine the brazilian ingredients\n",
    "cuisine_ingredients['brazilian'][0:500]"
   ]
  },
  {
   "cell_type": "code",
   "execution_count": 137,
   "metadata": {},
   "outputs": [
    {
     "data": {
      "text/plain": [
       "41                                            ['ice cubes', 'club soda', 'white rum', 'lime', 'turbinado']\n",
       "380    ['eggs', 'hearts of palm', 'cilantro', 'coconut cream', 'flax seed meal', 'kosher salt', 'jalape...\n",
       "423                                                 ['sweetened condensed milk', 'butter', 'cocoa powder']\n",
       "509                                                     ['lime', 'crushed ice', 'simple syrup', 'cachaca']\n",
       "724    ['sugar', 'corn starch', 'egg whites', 'boiling water', 'cold water', 'egg yolks', 'sweetened co...\n",
       "Name: ingredients_str, dtype: object"
      ]
     },
     "execution_count": 137,
     "metadata": {},
     "output_type": "execute_result"
    }
   ],
   "source": [
    "# confirm that they match the brazilian recipes\n",
    "train.loc[train.cuisine=='brazilian', 'ingredients_str'].head()"
   ]
  },
  {
   "cell_type": "code",
   "execution_count": 142,
   "metadata": {},
   "outputs": [
    {
     "name": "stdout",
     "output_type": "stream",
     "text": [
      "['00', '10', '100', '14', '15', '25', '33', '40', '43', '95', '96', 'abalone', 'abbamele', 'absinthe', 'abura', 'acai', 'accent', 'accompaniment', 'achiote', 'acid', 'acini', 'ackee', 'acorn', 'acting', 'activ', 'active', 'added', 'adobo', 'adzuki', 'agar', 'agave', 'age', 'aged', 'ahi', 'aioli', 'ajinomoto', 'ajwain', 'aka', 'alaskan', 'albacore', 'alcohol', 'ale', 'aleppo', 'alexia', 'alfalfa', 'alfredo', 'all', 'allspice', 'almond', 'almondmilk', 'almonds', 'aloe', 'alphabet', 'alum', 'amaranth', 'amarena', 'amaretti', 'amaretto', 'amba', 'amber', 'amberjack', 'amchur', 'america', 'american', 'aminos', 'ammonium', 'amontillado', 'ampalaya', 'an', 'anaheim', 'anasazi', 'ancho', 'anchovies', 'anchovy', 'and', 'andouille', 'anejo', 'angel', 'anglaise', 'angled', 'angostura', 'angus', 'anise', 'anisette', 'anjou', 'annatto', 'any', 'aonori', 'apple', 'apples', 'applesauce', 'applewood', 'apricot', 'apricots', 'aquavit', 'arak', 'arame', 'arbol', 'arborio', 'arctic']\n"
     ]
    }
   ],
   "source": [
    "vect = TfidfVectorizer()\n",
    "cuisine_dtm = vect.fit_transform(cuisine_ingredients)\n",
    "print(vect.get_feature_names()[0:100])"
   ]
  },
  {
   "cell_type": "code",
   "execution_count": 143,
   "metadata": {},
   "outputs": [],
   "source": [
    "# calculate the cosine similarity between each cuisine and all other cuisines\n",
    "from sklearn import metrics\n",
    "cuisine_similarity = []\n",
    "for idx in range(cuisine_dtm.shape[0]):\n",
    "    similarity = metrics.pairwise.linear_kernel(cuisine_dtm[idx, :], cuisine_dtm).flatten()\n",
    "    cuisine_similarity.append(similarity)"
   ]
  },
  {
   "cell_type": "code",
   "execution_count": 144,
   "metadata": {},
   "outputs": [
    {
     "data": {
      "text/html": [
       "<div>\n",
       "<style scoped>\n",
       "    .dataframe tbody tr th:only-of-type {\n",
       "        vertical-align: middle;\n",
       "    }\n",
       "\n",
       "    .dataframe tbody tr th {\n",
       "        vertical-align: top;\n",
       "    }\n",
       "\n",
       "    .dataframe thead th {\n",
       "        text-align: right;\n",
       "    }\n",
       "</style>\n",
       "<table border=\"1\" class=\"dataframe\">\n",
       "  <thead>\n",
       "    <tr style=\"text-align: right;\">\n",
       "      <th>cuisine</th>\n",
       "      <th>brazilian</th>\n",
       "      <th>british</th>\n",
       "      <th>cajun_creole</th>\n",
       "      <th>chinese</th>\n",
       "      <th>filipino</th>\n",
       "      <th>french</th>\n",
       "      <th>greek</th>\n",
       "      <th>indian</th>\n",
       "      <th>irish</th>\n",
       "      <th>italian</th>\n",
       "      <th>jamaican</th>\n",
       "      <th>japanese</th>\n",
       "      <th>korean</th>\n",
       "      <th>mexican</th>\n",
       "      <th>moroccan</th>\n",
       "      <th>russian</th>\n",
       "      <th>southern_us</th>\n",
       "      <th>spanish</th>\n",
       "      <th>thai</th>\n",
       "      <th>vietnamese</th>\n",
       "    </tr>\n",
       "    <tr>\n",
       "      <th>cuisine</th>\n",
       "      <th></th>\n",
       "      <th></th>\n",
       "      <th></th>\n",
       "      <th></th>\n",
       "      <th></th>\n",
       "      <th></th>\n",
       "      <th></th>\n",
       "      <th></th>\n",
       "      <th></th>\n",
       "      <th></th>\n",
       "      <th></th>\n",
       "      <th></th>\n",
       "      <th></th>\n",
       "      <th></th>\n",
       "      <th></th>\n",
       "      <th></th>\n",
       "      <th></th>\n",
       "      <th></th>\n",
       "      <th></th>\n",
       "      <th></th>\n",
       "    </tr>\n",
       "  </thead>\n",
       "  <tbody>\n",
       "    <tr>\n",
       "      <th>brazilian</th>\n",
       "      <td>1.000000</td>\n",
       "      <td>0.660232</td>\n",
       "      <td>0.742324</td>\n",
       "      <td>0.580756</td>\n",
       "      <td>0.769216</td>\n",
       "      <td>0.756392</td>\n",
       "      <td>0.695692</td>\n",
       "      <td>0.687271</td>\n",
       "      <td>0.665713</td>\n",
       "      <td>0.740527</td>\n",
       "      <td>0.778320</td>\n",
       "      <td>0.555601</td>\n",
       "      <td>0.571440</td>\n",
       "      <td>0.743736</td>\n",
       "      <td>0.669009</td>\n",
       "      <td>0.706087</td>\n",
       "      <td>0.743156</td>\n",
       "      <td>0.807694</td>\n",
       "      <td>0.685539</td>\n",
       "      <td>0.653801</td>\n",
       "    </tr>\n",
       "    <tr>\n",
       "      <th>british</th>\n",
       "      <td>0.660232</td>\n",
       "      <td>1.000000</td>\n",
       "      <td>0.591230</td>\n",
       "      <td>0.467640</td>\n",
       "      <td>0.631356</td>\n",
       "      <td>0.859609</td>\n",
       "      <td>0.562750</td>\n",
       "      <td>0.560349</td>\n",
       "      <td>0.926682</td>\n",
       "      <td>0.632618</td>\n",
       "      <td>0.662057</td>\n",
       "      <td>0.508296</td>\n",
       "      <td>0.447177</td>\n",
       "      <td>0.560446</td>\n",
       "      <td>0.543260</td>\n",
       "      <td>0.909551</td>\n",
       "      <td>0.911271</td>\n",
       "      <td>0.604000</td>\n",
       "      <td>0.445518</td>\n",
       "      <td>0.478901</td>\n",
       "    </tr>\n",
       "    <tr>\n",
       "      <th>cajun_creole</th>\n",
       "      <td>0.742324</td>\n",
       "      <td>0.591230</td>\n",
       "      <td>1.000000</td>\n",
       "      <td>0.605581</td>\n",
       "      <td>0.746151</td>\n",
       "      <td>0.708849</td>\n",
       "      <td>0.688391</td>\n",
       "      <td>0.618955</td>\n",
       "      <td>0.635197</td>\n",
       "      <td>0.738159</td>\n",
       "      <td>0.780897</td>\n",
       "      <td>0.532394</td>\n",
       "      <td>0.578645</td>\n",
       "      <td>0.724877</td>\n",
       "      <td>0.649831</td>\n",
       "      <td>0.657802</td>\n",
       "      <td>0.747480</td>\n",
       "      <td>0.803637</td>\n",
       "      <td>0.590103</td>\n",
       "      <td>0.605224</td>\n",
       "    </tr>\n",
       "    <tr>\n",
       "      <th>chinese</th>\n",
       "      <td>0.580756</td>\n",
       "      <td>0.467640</td>\n",
       "      <td>0.605581</td>\n",
       "      <td>1.000000</td>\n",
       "      <td>0.839803</td>\n",
       "      <td>0.540446</td>\n",
       "      <td>0.496090</td>\n",
       "      <td>0.553532</td>\n",
       "      <td>0.460746</td>\n",
       "      <td>0.555504</td>\n",
       "      <td>0.635953</td>\n",
       "      <td>0.835587</td>\n",
       "      <td>0.866828</td>\n",
       "      <td>0.561837</td>\n",
       "      <td>0.505655</td>\n",
       "      <td>0.521844</td>\n",
       "      <td>0.558514</td>\n",
       "      <td>0.603526</td>\n",
       "      <td>0.755813</td>\n",
       "      <td>0.817005</td>\n",
       "    </tr>\n",
       "    <tr>\n",
       "      <th>filipino</th>\n",
       "      <td>0.769216</td>\n",
       "      <td>0.631356</td>\n",
       "      <td>0.746151</td>\n",
       "      <td>0.839803</td>\n",
       "      <td>1.000000</td>\n",
       "      <td>0.682939</td>\n",
       "      <td>0.607436</td>\n",
       "      <td>0.655934</td>\n",
       "      <td>0.641010</td>\n",
       "      <td>0.670628</td>\n",
       "      <td>0.792723</td>\n",
       "      <td>0.748558</td>\n",
       "      <td>0.782623</td>\n",
       "      <td>0.678302</td>\n",
       "      <td>0.614984</td>\n",
       "      <td>0.697000</td>\n",
       "      <td>0.720368</td>\n",
       "      <td>0.727409</td>\n",
       "      <td>0.741512</td>\n",
       "      <td>0.806833</td>\n",
       "    </tr>\n",
       "    <tr>\n",
       "      <th>french</th>\n",
       "      <td>0.756392</td>\n",
       "      <td>0.859609</td>\n",
       "      <td>0.708849</td>\n",
       "      <td>0.540446</td>\n",
       "      <td>0.682939</td>\n",
       "      <td>1.000000</td>\n",
       "      <td>0.759936</td>\n",
       "      <td>0.624868</td>\n",
       "      <td>0.837384</td>\n",
       "      <td>0.835272</td>\n",
       "      <td>0.723225</td>\n",
       "      <td>0.540279</td>\n",
       "      <td>0.502205</td>\n",
       "      <td>0.666830</td>\n",
       "      <td>0.685384</td>\n",
       "      <td>0.881173</td>\n",
       "      <td>0.862062</td>\n",
       "      <td>0.817541</td>\n",
       "      <td>0.548375</td>\n",
       "      <td>0.570925</td>\n",
       "    </tr>\n",
       "    <tr>\n",
       "      <th>greek</th>\n",
       "      <td>0.695692</td>\n",
       "      <td>0.562750</td>\n",
       "      <td>0.688391</td>\n",
       "      <td>0.496090</td>\n",
       "      <td>0.607436</td>\n",
       "      <td>0.759936</td>\n",
       "      <td>1.000000</td>\n",
       "      <td>0.640297</td>\n",
       "      <td>0.583675</td>\n",
       "      <td>0.859270</td>\n",
       "      <td>0.681281</td>\n",
       "      <td>0.469465</td>\n",
       "      <td>0.479835</td>\n",
       "      <td>0.696644</td>\n",
       "      <td>0.769412</td>\n",
       "      <td>0.649530</td>\n",
       "      <td>0.641229</td>\n",
       "      <td>0.837448</td>\n",
       "      <td>0.519004</td>\n",
       "      <td>0.538683</td>\n",
       "    </tr>\n",
       "    <tr>\n",
       "      <th>indian</th>\n",
       "      <td>0.687271</td>\n",
       "      <td>0.560349</td>\n",
       "      <td>0.618955</td>\n",
       "      <td>0.553532</td>\n",
       "      <td>0.655934</td>\n",
       "      <td>0.624868</td>\n",
       "      <td>0.640297</td>\n",
       "      <td>1.000000</td>\n",
       "      <td>0.577338</td>\n",
       "      <td>0.616211</td>\n",
       "      <td>0.734926</td>\n",
       "      <td>0.567993</td>\n",
       "      <td>0.538853</td>\n",
       "      <td>0.708621</td>\n",
       "      <td>0.795271</td>\n",
       "      <td>0.607432</td>\n",
       "      <td>0.617278</td>\n",
       "      <td>0.678865</td>\n",
       "      <td>0.627460</td>\n",
       "      <td>0.605162</td>\n",
       "    </tr>\n",
       "    <tr>\n",
       "      <th>irish</th>\n",
       "      <td>0.665713</td>\n",
       "      <td>0.926682</td>\n",
       "      <td>0.635197</td>\n",
       "      <td>0.460746</td>\n",
       "      <td>0.641010</td>\n",
       "      <td>0.837384</td>\n",
       "      <td>0.583675</td>\n",
       "      <td>0.577338</td>\n",
       "      <td>1.000000</td>\n",
       "      <td>0.649878</td>\n",
       "      <td>0.680914</td>\n",
       "      <td>0.494762</td>\n",
       "      <td>0.458798</td>\n",
       "      <td>0.591718</td>\n",
       "      <td>0.563303</td>\n",
       "      <td>0.892428</td>\n",
       "      <td>0.902850</td>\n",
       "      <td>0.630921</td>\n",
       "      <td>0.449931</td>\n",
       "      <td>0.481712</td>\n",
       "    </tr>\n",
       "    <tr>\n",
       "      <th>italian</th>\n",
       "      <td>0.740527</td>\n",
       "      <td>0.632618</td>\n",
       "      <td>0.738159</td>\n",
       "      <td>0.555504</td>\n",
       "      <td>0.670628</td>\n",
       "      <td>0.835272</td>\n",
       "      <td>0.859270</td>\n",
       "      <td>0.616211</td>\n",
       "      <td>0.649878</td>\n",
       "      <td>1.000000</td>\n",
       "      <td>0.695768</td>\n",
       "      <td>0.510280</td>\n",
       "      <td>0.522568</td>\n",
       "      <td>0.733959</td>\n",
       "      <td>0.709827</td>\n",
       "      <td>0.697593</td>\n",
       "      <td>0.718945</td>\n",
       "      <td>0.858166</td>\n",
       "      <td>0.555088</td>\n",
       "      <td>0.571096</td>\n",
       "    </tr>\n",
       "    <tr>\n",
       "      <th>jamaican</th>\n",
       "      <td>0.778320</td>\n",
       "      <td>0.662057</td>\n",
       "      <td>0.780897</td>\n",
       "      <td>0.635953</td>\n",
       "      <td>0.792723</td>\n",
       "      <td>0.723225</td>\n",
       "      <td>0.681281</td>\n",
       "      <td>0.734926</td>\n",
       "      <td>0.680914</td>\n",
       "      <td>0.695768</td>\n",
       "      <td>1.000000</td>\n",
       "      <td>0.584689</td>\n",
       "      <td>0.609203</td>\n",
       "      <td>0.731859</td>\n",
       "      <td>0.757462</td>\n",
       "      <td>0.684492</td>\n",
       "      <td>0.752862</td>\n",
       "      <td>0.751672</td>\n",
       "      <td>0.650898</td>\n",
       "      <td>0.664175</td>\n",
       "    </tr>\n",
       "    <tr>\n",
       "      <th>japanese</th>\n",
       "      <td>0.555601</td>\n",
       "      <td>0.508296</td>\n",
       "      <td>0.532394</td>\n",
       "      <td>0.835587</td>\n",
       "      <td>0.748558</td>\n",
       "      <td>0.540279</td>\n",
       "      <td>0.469465</td>\n",
       "      <td>0.567993</td>\n",
       "      <td>0.494762</td>\n",
       "      <td>0.510280</td>\n",
       "      <td>0.584689</td>\n",
       "      <td>1.000000</td>\n",
       "      <td>0.819828</td>\n",
       "      <td>0.506539</td>\n",
       "      <td>0.477401</td>\n",
       "      <td>0.557275</td>\n",
       "      <td>0.554022</td>\n",
       "      <td>0.547336</td>\n",
       "      <td>0.682604</td>\n",
       "      <td>0.738413</td>\n",
       "    </tr>\n",
       "    <tr>\n",
       "      <th>korean</th>\n",
       "      <td>0.571440</td>\n",
       "      <td>0.447177</td>\n",
       "      <td>0.578645</td>\n",
       "      <td>0.866828</td>\n",
       "      <td>0.782623</td>\n",
       "      <td>0.502205</td>\n",
       "      <td>0.479835</td>\n",
       "      <td>0.538853</td>\n",
       "      <td>0.458798</td>\n",
       "      <td>0.522568</td>\n",
       "      <td>0.609203</td>\n",
       "      <td>0.819828</td>\n",
       "      <td>1.000000</td>\n",
       "      <td>0.516461</td>\n",
       "      <td>0.477964</td>\n",
       "      <td>0.517680</td>\n",
       "      <td>0.516811</td>\n",
       "      <td>0.582969</td>\n",
       "      <td>0.671054</td>\n",
       "      <td>0.747119</td>\n",
       "    </tr>\n",
       "    <tr>\n",
       "      <th>mexican</th>\n",
       "      <td>0.743736</td>\n",
       "      <td>0.560446</td>\n",
       "      <td>0.724877</td>\n",
       "      <td>0.561837</td>\n",
       "      <td>0.678302</td>\n",
       "      <td>0.666830</td>\n",
       "      <td>0.696644</td>\n",
       "      <td>0.708621</td>\n",
       "      <td>0.591718</td>\n",
       "      <td>0.733959</td>\n",
       "      <td>0.731859</td>\n",
       "      <td>0.506539</td>\n",
       "      <td>0.516461</td>\n",
       "      <td>1.000000</td>\n",
       "      <td>0.697442</td>\n",
       "      <td>0.630541</td>\n",
       "      <td>0.691398</td>\n",
       "      <td>0.739874</td>\n",
       "      <td>0.617627</td>\n",
       "      <td>0.623531</td>\n",
       "    </tr>\n",
       "    <tr>\n",
       "      <th>moroccan</th>\n",
       "      <td>0.669009</td>\n",
       "      <td>0.543260</td>\n",
       "      <td>0.649831</td>\n",
       "      <td>0.505655</td>\n",
       "      <td>0.614984</td>\n",
       "      <td>0.685384</td>\n",
       "      <td>0.769412</td>\n",
       "      <td>0.795271</td>\n",
       "      <td>0.563303</td>\n",
       "      <td>0.709827</td>\n",
       "      <td>0.757462</td>\n",
       "      <td>0.477401</td>\n",
       "      <td>0.477964</td>\n",
       "      <td>0.697442</td>\n",
       "      <td>1.000000</td>\n",
       "      <td>0.608343</td>\n",
       "      <td>0.605958</td>\n",
       "      <td>0.784612</td>\n",
       "      <td>0.533128</td>\n",
       "      <td>0.553375</td>\n",
       "    </tr>\n",
       "    <tr>\n",
       "      <th>russian</th>\n",
       "      <td>0.706087</td>\n",
       "      <td>0.909551</td>\n",
       "      <td>0.657802</td>\n",
       "      <td>0.521844</td>\n",
       "      <td>0.697000</td>\n",
       "      <td>0.881173</td>\n",
       "      <td>0.649530</td>\n",
       "      <td>0.607432</td>\n",
       "      <td>0.892428</td>\n",
       "      <td>0.697593</td>\n",
       "      <td>0.684492</td>\n",
       "      <td>0.557275</td>\n",
       "      <td>0.517680</td>\n",
       "      <td>0.630541</td>\n",
       "      <td>0.608343</td>\n",
       "      <td>1.000000</td>\n",
       "      <td>0.877901</td>\n",
       "      <td>0.702752</td>\n",
       "      <td>0.494331</td>\n",
       "      <td>0.539100</td>\n",
       "    </tr>\n",
       "    <tr>\n",
       "      <th>southern_us</th>\n",
       "      <td>0.743156</td>\n",
       "      <td>0.911271</td>\n",
       "      <td>0.747480</td>\n",
       "      <td>0.558514</td>\n",
       "      <td>0.720368</td>\n",
       "      <td>0.862062</td>\n",
       "      <td>0.641229</td>\n",
       "      <td>0.617278</td>\n",
       "      <td>0.902850</td>\n",
       "      <td>0.718945</td>\n",
       "      <td>0.752862</td>\n",
       "      <td>0.554022</td>\n",
       "      <td>0.516811</td>\n",
       "      <td>0.691398</td>\n",
       "      <td>0.605958</td>\n",
       "      <td>0.877901</td>\n",
       "      <td>1.000000</td>\n",
       "      <td>0.707774</td>\n",
       "      <td>0.536965</td>\n",
       "      <td>0.562359</td>\n",
       "    </tr>\n",
       "    <tr>\n",
       "      <th>spanish</th>\n",
       "      <td>0.807694</td>\n",
       "      <td>0.604000</td>\n",
       "      <td>0.803637</td>\n",
       "      <td>0.603526</td>\n",
       "      <td>0.727409</td>\n",
       "      <td>0.817541</td>\n",
       "      <td>0.837448</td>\n",
       "      <td>0.678865</td>\n",
       "      <td>0.630921</td>\n",
       "      <td>0.858166</td>\n",
       "      <td>0.751672</td>\n",
       "      <td>0.547336</td>\n",
       "      <td>0.582969</td>\n",
       "      <td>0.739874</td>\n",
       "      <td>0.784612</td>\n",
       "      <td>0.702752</td>\n",
       "      <td>0.707774</td>\n",
       "      <td>1.000000</td>\n",
       "      <td>0.606200</td>\n",
       "      <td>0.614200</td>\n",
       "    </tr>\n",
       "    <tr>\n",
       "      <th>thai</th>\n",
       "      <td>0.685539</td>\n",
       "      <td>0.445518</td>\n",
       "      <td>0.590103</td>\n",
       "      <td>0.755813</td>\n",
       "      <td>0.741512</td>\n",
       "      <td>0.548375</td>\n",
       "      <td>0.519004</td>\n",
       "      <td>0.627460</td>\n",
       "      <td>0.449931</td>\n",
       "      <td>0.555088</td>\n",
       "      <td>0.650898</td>\n",
       "      <td>0.682604</td>\n",
       "      <td>0.671054</td>\n",
       "      <td>0.617627</td>\n",
       "      <td>0.533128</td>\n",
       "      <td>0.494331</td>\n",
       "      <td>0.536965</td>\n",
       "      <td>0.606200</td>\n",
       "      <td>1.000000</td>\n",
       "      <td>0.914986</td>\n",
       "    </tr>\n",
       "    <tr>\n",
       "      <th>vietnamese</th>\n",
       "      <td>0.653801</td>\n",
       "      <td>0.478901</td>\n",
       "      <td>0.605224</td>\n",
       "      <td>0.817005</td>\n",
       "      <td>0.806833</td>\n",
       "      <td>0.570925</td>\n",
       "      <td>0.538683</td>\n",
       "      <td>0.605162</td>\n",
       "      <td>0.481712</td>\n",
       "      <td>0.571096</td>\n",
       "      <td>0.664175</td>\n",
       "      <td>0.738413</td>\n",
       "      <td>0.747119</td>\n",
       "      <td>0.623531</td>\n",
       "      <td>0.553375</td>\n",
       "      <td>0.539100</td>\n",
       "      <td>0.562359</td>\n",
       "      <td>0.614200</td>\n",
       "      <td>0.914986</td>\n",
       "      <td>1.000000</td>\n",
       "    </tr>\n",
       "  </tbody>\n",
       "</table>\n",
       "</div>"
      ],
      "text/plain": [
       "cuisine       brazilian   british  cajun_creole   chinese  filipino    french  \\\n",
       "cuisine                                                                         \n",
       "brazilian      1.000000  0.660232      0.742324  0.580756  0.769216  0.756392   \n",
       "british        0.660232  1.000000      0.591230  0.467640  0.631356  0.859609   \n",
       "cajun_creole   0.742324  0.591230      1.000000  0.605581  0.746151  0.708849   \n",
       "chinese        0.580756  0.467640      0.605581  1.000000  0.839803  0.540446   \n",
       "filipino       0.769216  0.631356      0.746151  0.839803  1.000000  0.682939   \n",
       "french         0.756392  0.859609      0.708849  0.540446  0.682939  1.000000   \n",
       "greek          0.695692  0.562750      0.688391  0.496090  0.607436  0.759936   \n",
       "indian         0.687271  0.560349      0.618955  0.553532  0.655934  0.624868   \n",
       "irish          0.665713  0.926682      0.635197  0.460746  0.641010  0.837384   \n",
       "italian        0.740527  0.632618      0.738159  0.555504  0.670628  0.835272   \n",
       "jamaican       0.778320  0.662057      0.780897  0.635953  0.792723  0.723225   \n",
       "japanese       0.555601  0.508296      0.532394  0.835587  0.748558  0.540279   \n",
       "korean         0.571440  0.447177      0.578645  0.866828  0.782623  0.502205   \n",
       "mexican        0.743736  0.560446      0.724877  0.561837  0.678302  0.666830   \n",
       "moroccan       0.669009  0.543260      0.649831  0.505655  0.614984  0.685384   \n",
       "russian        0.706087  0.909551      0.657802  0.521844  0.697000  0.881173   \n",
       "southern_us    0.743156  0.911271      0.747480  0.558514  0.720368  0.862062   \n",
       "spanish        0.807694  0.604000      0.803637  0.603526  0.727409  0.817541   \n",
       "thai           0.685539  0.445518      0.590103  0.755813  0.741512  0.548375   \n",
       "vietnamese     0.653801  0.478901      0.605224  0.817005  0.806833  0.570925   \n",
       "\n",
       "cuisine          greek    indian     irish   italian  jamaican  japanese  \\\n",
       "cuisine                                                                    \n",
       "brazilian     0.695692  0.687271  0.665713  0.740527  0.778320  0.555601   \n",
       "british       0.562750  0.560349  0.926682  0.632618  0.662057  0.508296   \n",
       "cajun_creole  0.688391  0.618955  0.635197  0.738159  0.780897  0.532394   \n",
       "chinese       0.496090  0.553532  0.460746  0.555504  0.635953  0.835587   \n",
       "filipino      0.607436  0.655934  0.641010  0.670628  0.792723  0.748558   \n",
       "french        0.759936  0.624868  0.837384  0.835272  0.723225  0.540279   \n",
       "greek         1.000000  0.640297  0.583675  0.859270  0.681281  0.469465   \n",
       "indian        0.640297  1.000000  0.577338  0.616211  0.734926  0.567993   \n",
       "irish         0.583675  0.577338  1.000000  0.649878  0.680914  0.494762   \n",
       "italian       0.859270  0.616211  0.649878  1.000000  0.695768  0.510280   \n",
       "jamaican      0.681281  0.734926  0.680914  0.695768  1.000000  0.584689   \n",
       "japanese      0.469465  0.567993  0.494762  0.510280  0.584689  1.000000   \n",
       "korean        0.479835  0.538853  0.458798  0.522568  0.609203  0.819828   \n",
       "mexican       0.696644  0.708621  0.591718  0.733959  0.731859  0.506539   \n",
       "moroccan      0.769412  0.795271  0.563303  0.709827  0.757462  0.477401   \n",
       "russian       0.649530  0.607432  0.892428  0.697593  0.684492  0.557275   \n",
       "southern_us   0.641229  0.617278  0.902850  0.718945  0.752862  0.554022   \n",
       "spanish       0.837448  0.678865  0.630921  0.858166  0.751672  0.547336   \n",
       "thai          0.519004  0.627460  0.449931  0.555088  0.650898  0.682604   \n",
       "vietnamese    0.538683  0.605162  0.481712  0.571096  0.664175  0.738413   \n",
       "\n",
       "cuisine         korean   mexican  moroccan   russian  southern_us   spanish  \\\n",
       "cuisine                                                                       \n",
       "brazilian     0.571440  0.743736  0.669009  0.706087     0.743156  0.807694   \n",
       "british       0.447177  0.560446  0.543260  0.909551     0.911271  0.604000   \n",
       "cajun_creole  0.578645  0.724877  0.649831  0.657802     0.747480  0.803637   \n",
       "chinese       0.866828  0.561837  0.505655  0.521844     0.558514  0.603526   \n",
       "filipino      0.782623  0.678302  0.614984  0.697000     0.720368  0.727409   \n",
       "french        0.502205  0.666830  0.685384  0.881173     0.862062  0.817541   \n",
       "greek         0.479835  0.696644  0.769412  0.649530     0.641229  0.837448   \n",
       "indian        0.538853  0.708621  0.795271  0.607432     0.617278  0.678865   \n",
       "irish         0.458798  0.591718  0.563303  0.892428     0.902850  0.630921   \n",
       "italian       0.522568  0.733959  0.709827  0.697593     0.718945  0.858166   \n",
       "jamaican      0.609203  0.731859  0.757462  0.684492     0.752862  0.751672   \n",
       "japanese      0.819828  0.506539  0.477401  0.557275     0.554022  0.547336   \n",
       "korean        1.000000  0.516461  0.477964  0.517680     0.516811  0.582969   \n",
       "mexican       0.516461  1.000000  0.697442  0.630541     0.691398  0.739874   \n",
       "moroccan      0.477964  0.697442  1.000000  0.608343     0.605958  0.784612   \n",
       "russian       0.517680  0.630541  0.608343  1.000000     0.877901  0.702752   \n",
       "southern_us   0.516811  0.691398  0.605958  0.877901     1.000000  0.707774   \n",
       "spanish       0.582969  0.739874  0.784612  0.702752     0.707774  1.000000   \n",
       "thai          0.671054  0.617627  0.533128  0.494331     0.536965  0.606200   \n",
       "vietnamese    0.747119  0.623531  0.553375  0.539100     0.562359  0.614200   \n",
       "\n",
       "cuisine           thai  vietnamese  \n",
       "cuisine                             \n",
       "brazilian     0.685539    0.653801  \n",
       "british       0.445518    0.478901  \n",
       "cajun_creole  0.590103    0.605224  \n",
       "chinese       0.755813    0.817005  \n",
       "filipino      0.741512    0.806833  \n",
       "french        0.548375    0.570925  \n",
       "greek         0.519004    0.538683  \n",
       "indian        0.627460    0.605162  \n",
       "irish         0.449931    0.481712  \n",
       "italian       0.555088    0.571096  \n",
       "jamaican      0.650898    0.664175  \n",
       "japanese      0.682604    0.738413  \n",
       "korean        0.671054    0.747119  \n",
       "mexican       0.617627    0.623531  \n",
       "moroccan      0.533128    0.553375  \n",
       "russian       0.494331    0.539100  \n",
       "southern_us   0.536965    0.562359  \n",
       "spanish       0.606200    0.614200  \n",
       "thai          1.000000    0.914986  \n",
       "vietnamese    0.914986    1.000000  "
      ]
     },
     "execution_count": 144,
     "metadata": {},
     "output_type": "execute_result"
    }
   ],
   "source": [
    "# convert the results to a DataFrame\n",
    "cuisine_list = cuisine_ingredients.index\n",
    "cuisine_similarity = pd.DataFrame(cuisine_similarity, index=cuisine_list, columns=cuisine_list)\n",
    "cuisine_similarity"
   ]
  },
  {
   "cell_type": "code",
   "execution_count": 146,
   "metadata": {},
   "outputs": [
    {
     "data": {
      "text/plain": [
       "<matplotlib.axes._subplots.AxesSubplot at 0x11c3448d0>"
      ]
     },
     "execution_count": 146,
     "metadata": {},
     "output_type": "execute_result"
    },
    {
     "data": {
      "image/png": "[encoded data removed]",
      "text/plain": [
       "<Figure size 432x288 with 2 Axes>"
      ]
     },
     "metadata": {
      "needs_background": "light"
     },
     "output_type": "display_data"
    }
   ],
   "source": [
    "# display the similarities as a heatmap\n",
    "%matplotlib inline\n",
    "sns.heatmap(cuisine_similarity)"
   ]
  }
 ],
 "metadata": {
  "kernelspec": {
   "display_name": "Python 3",
   "language": "python",
   "name": "python3"
  },
  "language_info": {
   "codemirror_mode": {
    "name": "ipython",
    "version": 3
   },
   "file_extension": ".py",
   "mimetype": "text/x-python",
   "name": "python",
   "nbconvert_exporter": "python",
   "pygments_lexer": "ipython3",
   "version": "3.7.1"
  }
 },
 "nbformat": 4,
 "nbformat_minor": 2
}
